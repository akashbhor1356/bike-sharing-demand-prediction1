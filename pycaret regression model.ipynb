{
 "cells": [
  {
   "cell_type": "code",
   "execution_count": 1,
   "metadata": {
    "id": "W30GJW59xAVg"
   },
   "outputs": [],
   "source": [
    "import pandas as pd\n",
    "import numpy as np\n"
   ]
  },
  {
   "cell_type": "code",
   "execution_count": 2,
   "metadata": {
    "colab": {
     "base_uri": "https://localhost:8080/"
    },
    "id": "Fj6KvLqv0k4Q",
    "outputId": "94135927-0648-41bc-9ead-6bb264862be8"
   },
   "outputs": [
    {
     "name": "stdout",
     "output_type": "stream",
     "text": [
      "Requirement already satisfied: pycaret in c:\\users\\hp\\anaconda3\\lib\\site-packages (3.0.0rc4)\n",
      "Requirement already satisfied: ipython>=5.5.0 in c:\\users\\hp\\anaconda3\\lib\\site-packages (from pycaret) (8.2.0)\n",
      "Requirement already satisfied: kaleido>=0.2.1 in c:\\users\\hp\\anaconda3\\lib\\site-packages (from pycaret) (0.2.1)\n",
      "Requirement already satisfied: statsmodels>=0.12.1 in c:\\users\\hp\\anaconda3\\lib\\site-packages (from pycaret) (0.13.2)\n",
      "Requirement already satisfied: schemdraw>=0.14 in c:\\users\\hp\\anaconda3\\lib\\site-packages (from pycaret) (0.15)\n",
      "Requirement already satisfied: pandas<1.5.0,>=1.3.0 in c:\\users\\hp\\anaconda3\\lib\\site-packages (from pycaret) (1.4.2)\n",
      "Requirement already satisfied: numpy<1.23,>=1.21 in c:\\users\\hp\\anaconda3\\lib\\site-packages (from pycaret) (1.21.5)\n",
      "Requirement already satisfied: tqdm>=4.62.0 in c:\\users\\hp\\anaconda3\\lib\\site-packages (from pycaret) (4.64.0)\n",
      "Requirement already satisfied: markupsafe>=2.0.1 in c:\\users\\hp\\anaconda3\\lib\\site-packages (from pycaret) (2.0.1)\n",
      "Requirement already satisfied: ipywidgets>=7.6.5 in c:\\users\\hp\\anaconda3\\lib\\site-packages (from pycaret) (7.6.5)\n",
      "Requirement already satisfied: pmdarima!=1.8.1,<2.0.0,>=1.8.0 in c:\\users\\hp\\anaconda3\\lib\\site-packages (from pycaret) (1.8.5)\n",
      "Requirement already satisfied: imbalanced-learn>=0.8.1 in c:\\users\\hp\\anaconda3\\lib\\site-packages (from pycaret) (0.9.1)\n",
      "Requirement already satisfied: joblib>=1.1.0 in c:\\users\\hp\\anaconda3\\lib\\site-packages (from pycaret) (1.1.0)\n",
      "Requirement already satisfied: psutil>=5.9.0 in c:\\users\\hp\\anaconda3\\lib\\site-packages (from pycaret) (5.9.3)\n",
      "Requirement already satisfied: plotly-resampler>=0.7.2.2 in c:\\users\\hp\\anaconda3\\lib\\site-packages (from pycaret) (0.8.2rc3)\n",
      "Requirement already satisfied: tbats>=1.1.0 in c:\\users\\hp\\anaconda3\\lib\\site-packages (from pycaret) (1.1.1)\n",
      "Requirement already satisfied: pyod>=0.9.8 in c:\\users\\hp\\anaconda3\\lib\\site-packages (from pycaret) (1.0.5)\n",
      "Requirement already satisfied: yellowbrick>=1.4 in c:\\users\\hp\\anaconda3\\lib\\site-packages (from pycaret) (1.5)\n",
      "Requirement already satisfied: sktime~=0.13.2 in c:\\users\\hp\\anaconda3\\lib\\site-packages (from pycaret) (0.13.4)\n",
      "Requirement already satisfied: importlib-metadata>=4.12.0 in c:\\users\\hp\\anaconda3\\lib\\site-packages (from pycaret) (5.0.0)\n",
      "Requirement already satisfied: requests>=2.27.1 in c:\\users\\hp\\anaconda3\\lib\\site-packages (from pycaret) (2.27.1)\n",
      "Requirement already satisfied: lightgbm>=3.0.0 in c:\\users\\hp\\anaconda3\\lib\\site-packages (from pycaret) (3.3.3)\n",
      "Requirement already satisfied: numba~=0.55.0 in c:\\users\\hp\\anaconda3\\lib\\site-packages (from pycaret) (0.55.1)\n",
      "Requirement already satisfied: scipy<1.9.0 in c:\\users\\hp\\anaconda3\\lib\\site-packages (from pycaret) (1.7.3)\n",
      "Requirement already satisfied: category-encoders>=2.4.0 in c:\\users\\hp\\anaconda3\\lib\\site-packages (from pycaret) (2.5.1.post0)\n",
      "Requirement already satisfied: jinja2>=1.2 in c:\\users\\hp\\anaconda3\\lib\\site-packages (from pycaret) (2.11.3)\n",
      "Requirement already satisfied: scikit-plot>=0.3.7 in c:\\users\\hp\\anaconda3\\lib\\site-packages (from pycaret) (0.3.7)\n",
      "Requirement already satisfied: matplotlib>=3.3.0 in c:\\users\\hp\\anaconda3\\lib\\site-packages (from pycaret) (3.5.1)\n",
      "Requirement already satisfied: plotly>=5.0.0 in c:\\users\\hp\\anaconda3\\lib\\site-packages (from pycaret) (5.6.0)\n",
      "Requirement already satisfied: scikit-learn>=1.0 in c:\\users\\hp\\anaconda3\\lib\\site-packages (from pycaret) (1.1.2)\n",
      "Requirement already satisfied: patsy>=0.5.1 in c:\\users\\hp\\anaconda3\\lib\\site-packages (from category-encoders>=2.4.0->pycaret) (0.5.2)\n",
      "Requirement already satisfied: threadpoolctl>=2.0.0 in c:\\users\\hp\\anaconda3\\lib\\site-packages (from imbalanced-learn>=0.8.1->pycaret) (2.2.0)\n",
      "Requirement already satisfied: zipp>=0.5 in c:\\users\\hp\\anaconda3\\lib\\site-packages (from importlib-metadata>=4.12.0->pycaret) (3.7.0)\n",
      "Requirement already satisfied: prompt-toolkit!=3.0.0,!=3.0.1,<3.1.0,>=2.0.0 in c:\\users\\hp\\anaconda3\\lib\\site-packages (from ipython>=5.5.0->pycaret) (3.0.20)\n",
      "Requirement already satisfied: traitlets>=5 in c:\\users\\hp\\anaconda3\\lib\\site-packages (from ipython>=5.5.0->pycaret) (5.1.1)\n",
      "Requirement already satisfied: jedi>=0.16 in c:\\users\\hp\\anaconda3\\lib\\site-packages (from ipython>=5.5.0->pycaret) (0.18.1)\n",
      "Requirement already satisfied: backcall in c:\\users\\hp\\anaconda3\\lib\\site-packages (from ipython>=5.5.0->pycaret) (0.2.0)\n",
      "Requirement already satisfied: pickleshare in c:\\users\\hp\\anaconda3\\lib\\site-packages (from ipython>=5.5.0->pycaret) (0.7.5)\n",
      "Requirement already satisfied: matplotlib-inline in c:\\users\\hp\\anaconda3\\lib\\site-packages (from ipython>=5.5.0->pycaret) (0.1.2)\n",
      "Requirement already satisfied: setuptools>=18.5 in c:\\users\\hp\\anaconda3\\lib\\site-packages (from ipython>=5.5.0->pycaret) (60.10.0)\n",
      "Requirement already satisfied: stack-data in c:\\users\\hp\\anaconda3\\lib\\site-packages (from ipython>=5.5.0->pycaret) (0.2.0)\n",
      "Requirement already satisfied: colorama in c:\\users\\hp\\anaconda3\\lib\\site-packages (from ipython>=5.5.0->pycaret) (0.4.4)\n",
      "Requirement already satisfied: pygments>=2.4.0 in c:\\users\\hp\\anaconda3\\lib\\site-packages (from ipython>=5.5.0->pycaret) (2.11.2)\n",
      "Requirement already satisfied: decorator in c:\\users\\hp\\anaconda3\\lib\\site-packages (from ipython>=5.5.0->pycaret) (5.1.1)\n",
      "Requirement already satisfied: jupyterlab-widgets>=1.0.0 in c:\\users\\hp\\anaconda3\\lib\\site-packages (from ipywidgets>=7.6.5->pycaret) (1.0.0)\n",
      "Requirement already satisfied: ipython-genutils~=0.2.0 in c:\\users\\hp\\anaconda3\\lib\\site-packages (from ipywidgets>=7.6.5->pycaret) (0.2.0)\n",
      "Requirement already satisfied: ipykernel>=4.5.1 in c:\\users\\hp\\anaconda3\\lib\\site-packages (from ipywidgets>=7.6.5->pycaret) (6.9.1)\n",
      "Requirement already satisfied: nbformat>=4.2.0 in c:\\users\\hp\\anaconda3\\lib\\site-packages (from ipywidgets>=7.6.5->pycaret) (5.3.0)\n",
      "Requirement already satisfied: widgetsnbextension~=3.5.0 in c:\\users\\hp\\anaconda3\\lib\\site-packages (from ipywidgets>=7.6.5->pycaret) (3.5.2)\n",
      "Requirement already satisfied: nest-asyncio in c:\\users\\hp\\anaconda3\\lib\\site-packages (from ipykernel>=4.5.1->ipywidgets>=7.6.5->pycaret) (1.5.5)\n",
      "Requirement already satisfied: debugpy<2.0,>=1.0.0 in c:\\users\\hp\\anaconda3\\lib\\site-packages (from ipykernel>=4.5.1->ipywidgets>=7.6.5->pycaret) (1.5.1)\n",
      "Requirement already satisfied: jupyter-client<8.0 in c:\\users\\hp\\anaconda3\\lib\\site-packages (from ipykernel>=4.5.1->ipywidgets>=7.6.5->pycaret) (6.1.12)\n",
      "Requirement already satisfied: tornado<7.0,>=4.2 in c:\\users\\hp\\anaconda3\\lib\\site-packages (from ipykernel>=4.5.1->ipywidgets>=7.6.5->pycaret) (6.1)\n",
      "Requirement already satisfied: parso<0.9.0,>=0.8.0 in c:\\users\\hp\\anaconda3\\lib\\site-packages (from jedi>=0.16->ipython>=5.5.0->pycaret) (0.8.3)\n",
      "Requirement already satisfied: pyzmq>=13 in c:\\users\\hp\\anaconda3\\lib\\site-packages (from jupyter-client<8.0->ipykernel>=4.5.1->ipywidgets>=7.6.5->pycaret) (22.3.0)\n",
      "Requirement already satisfied: python-dateutil>=2.1 in c:\\users\\hp\\anaconda3\\lib\\site-packages (from jupyter-client<8.0->ipykernel>=4.5.1->ipywidgets>=7.6.5->pycaret) (2.8.2)\n",
      "Requirement already satisfied: jupyter-core>=4.6.0 in c:\\users\\hp\\anaconda3\\lib\\site-packages (from jupyter-client<8.0->ipykernel>=4.5.1->ipywidgets>=7.6.5->pycaret) (4.9.2)\n",
      "Requirement already satisfied: pywin32>=1.0 in c:\\users\\hp\\anaconda3\\lib\\site-packages (from jupyter-core>=4.6.0->jupyter-client<8.0->ipykernel>=4.5.1->ipywidgets>=7.6.5->pycaret) (302)\n",
      "Requirement already satisfied: wheel in c:\\users\\hp\\anaconda3\\lib\\site-packages (from lightgbm>=3.0.0->pycaret) (0.37.1)\n",
      "Requirement already satisfied: pillow>=6.2.0 in c:\\users\\hp\\anaconda3\\lib\\site-packages (from matplotlib>=3.3.0->pycaret) (9.0.1)\n",
      "Requirement already satisfied: packaging>=20.0 in c:\\users\\hp\\anaconda3\\lib\\site-packages (from matplotlib>=3.3.0->pycaret) (21.3)\n",
      "Requirement already satisfied: fonttools>=4.22.0 in c:\\users\\hp\\anaconda3\\lib\\site-packages (from matplotlib>=3.3.0->pycaret) (4.25.0)\n",
      "Requirement already satisfied: pyparsing>=2.2.1 in c:\\users\\hp\\anaconda3\\lib\\site-packages (from matplotlib>=3.3.0->pycaret) (3.0.4)\n",
      "Requirement already satisfied: kiwisolver>=1.0.1 in c:\\users\\hp\\anaconda3\\lib\\site-packages (from matplotlib>=3.3.0->pycaret) (1.3.2)\n",
      "Requirement already satisfied: cycler>=0.10 in c:\\users\\hp\\anaconda3\\lib\\site-packages (from matplotlib>=3.3.0->pycaret) (0.11.0)\n",
      "Requirement already satisfied: jsonschema>=2.6 in c:\\users\\hp\\anaconda3\\lib\\site-packages (from nbformat>=4.2.0->ipywidgets>=7.6.5->pycaret) (4.4.0)\n",
      "Requirement already satisfied: fastjsonschema in c:\\users\\hp\\anaconda3\\lib\\site-packages (from nbformat>=4.2.0->ipywidgets>=7.6.5->pycaret) (2.15.1)\n",
      "Requirement already satisfied: pyrsistent!=0.17.0,!=0.17.1,!=0.17.2,>=0.14.0 in c:\\users\\hp\\anaconda3\\lib\\site-packages (from jsonschema>=2.6->nbformat>=4.2.0->ipywidgets>=7.6.5->pycaret) (0.18.0)\n",
      "Requirement already satisfied: attrs>=17.4.0 in c:\\users\\hp\\anaconda3\\lib\\site-packages (from jsonschema>=2.6->nbformat>=4.2.0->ipywidgets>=7.6.5->pycaret) (21.4.0)\n",
      "Requirement already satisfied: llvmlite<0.39,>=0.38.0rc1 in c:\\users\\hp\\anaconda3\\lib\\site-packages (from numba~=0.55.0->pycaret) (0.38.0)\n",
      "Requirement already satisfied: pytz>=2020.1 in c:\\users\\hp\\anaconda3\\lib\\site-packages (from pandas<1.5.0,>=1.3.0->pycaret) (2021.3)\n",
      "Requirement already satisfied: six in c:\\users\\hp\\anaconda3\\lib\\site-packages (from patsy>=0.5.1->category-encoders>=2.4.0->pycaret) (1.16.0)\n",
      "Requirement already satisfied: tenacity>=6.2.0 in c:\\users\\hp\\anaconda3\\lib\\site-packages (from plotly>=5.0.0->pycaret) (8.0.1)\n",
      "Requirement already satisfied: jupyter-dash>=0.4.2 in c:\\users\\hp\\anaconda3\\lib\\site-packages (from plotly-resampler>=0.7.2.2->pycaret) (0.4.2)\n",
      "Requirement already satisfied: trace-updater>=0.0.8 in c:\\users\\hp\\anaconda3\\lib\\site-packages (from plotly-resampler>=0.7.2.2->pycaret) (0.0.8)\n",
      "Requirement already satisfied: dash<3.0.0,>=2.2.0 in c:\\users\\hp\\anaconda3\\lib\\site-packages (from plotly-resampler>=0.7.2.2->pycaret) (2.6.2)\n",
      "Requirement already satisfied: orjson<4.0.0,>=3.7.7 in c:\\users\\hp\\anaconda3\\lib\\site-packages (from plotly-resampler>=0.7.2.2->pycaret) (3.8.0)\n",
      "Requirement already satisfied: Flask-Cors<4.0.0,>=3.0.10 in c:\\users\\hp\\anaconda3\\lib\\site-packages (from plotly-resampler>=0.7.2.2->pycaret) (3.0.10)\n",
      "Requirement already satisfied: dash-table==5.0.0 in c:\\users\\hp\\anaconda3\\lib\\site-packages (from dash<3.0.0,>=2.2.0->plotly-resampler>=0.7.2.2->pycaret) (5.0.0)\n",
      "Requirement already satisfied: flask-compress in c:\\users\\hp\\anaconda3\\lib\\site-packages (from dash<3.0.0,>=2.2.0->plotly-resampler>=0.7.2.2->pycaret) (1.13)\n",
      "Requirement already satisfied: dash-html-components==2.0.0 in c:\\users\\hp\\anaconda3\\lib\\site-packages (from dash<3.0.0,>=2.2.0->plotly-resampler>=0.7.2.2->pycaret) (2.0.0)\n",
      "Requirement already satisfied: Flask>=1.0.4 in c:\\users\\hp\\anaconda3\\lib\\site-packages (from dash<3.0.0,>=2.2.0->plotly-resampler>=0.7.2.2->pycaret) (1.1.2)\n",
      "Requirement already satisfied: dash-core-components==2.0.0 in c:\\users\\hp\\anaconda3\\lib\\site-packages (from dash<3.0.0,>=2.2.0->plotly-resampler>=0.7.2.2->pycaret) (2.0.0)\n",
      "Requirement already satisfied: click>=5.1 in c:\\users\\hp\\anaconda3\\lib\\site-packages (from Flask>=1.0.4->dash<3.0.0,>=2.2.0->plotly-resampler>=0.7.2.2->pycaret) (8.0.4)\n",
      "Requirement already satisfied: Werkzeug>=0.15 in c:\\users\\hp\\anaconda3\\lib\\site-packages (from Flask>=1.0.4->dash<3.0.0,>=2.2.0->plotly-resampler>=0.7.2.2->pycaret) (2.0.3)\n",
      "Requirement already satisfied: itsdangerous>=0.24 in c:\\users\\hp\\anaconda3\\lib\\site-packages (from Flask>=1.0.4->dash<3.0.0,>=2.2.0->plotly-resampler>=0.7.2.2->pycaret) (2.0.1)\n",
      "Requirement already satisfied: retrying in c:\\users\\hp\\anaconda3\\lib\\site-packages (from jupyter-dash>=0.4.2->plotly-resampler>=0.7.2.2->pycaret) (1.3.3)\n",
      "Requirement already satisfied: ansi2html in c:\\users\\hp\\anaconda3\\lib\\site-packages (from jupyter-dash>=0.4.2->plotly-resampler>=0.7.2.2->pycaret) (1.8.0)\n",
      "Requirement already satisfied: Cython!=0.29.18,>=0.29 in c:\\users\\hp\\anaconda3\\lib\\site-packages (from pmdarima!=1.8.1,<2.0.0,>=1.8.0->pycaret) (0.29.28)\n",
      "Requirement already satisfied: urllib3 in c:\\users\\hp\\anaconda3\\lib\\site-packages (from pmdarima!=1.8.1,<2.0.0,>=1.8.0->pycaret) (1.26.9)\n",
      "Requirement already satisfied: wcwidth in c:\\users\\hp\\anaconda3\\lib\\site-packages (from prompt-toolkit!=3.0.0,!=3.0.1,<3.1.0,>=2.0.0->ipython>=5.5.0->pycaret) (0.2.5)\n",
      "Requirement already satisfied: charset-normalizer~=2.0.0 in c:\\users\\hp\\anaconda3\\lib\\site-packages (from requests>=2.27.1->pycaret) (2.0.4)\n",
      "Requirement already satisfied: idna<4,>=2.5 in c:\\users\\hp\\anaconda3\\lib\\site-packages (from requests>=2.27.1->pycaret) (3.3)\n",
      "Requirement already satisfied: certifi>=2017.4.17 in c:\\users\\hp\\anaconda3\\lib\\site-packages (from requests>=2.27.1->pycaret) (2021.10.8)\n",
      "Requirement already satisfied: deprecated>=1.2.13 in c:\\users\\hp\\anaconda3\\lib\\site-packages (from sktime~=0.13.2->pycaret) (1.2.13)\n",
      "Requirement already satisfied: wrapt<2,>=1.10 in c:\\users\\hp\\anaconda3\\lib\\site-packages (from deprecated>=1.2.13->sktime~=0.13.2->pycaret) (1.12.1)\n",
      "Requirement already satisfied: notebook>=4.4.1 in c:\\users\\hp\\anaconda3\\lib\\site-packages (from widgetsnbextension~=3.5.0->ipywidgets>=7.6.5->pycaret) (6.4.8)\n",
      "Requirement already satisfied: argon2-cffi in c:\\users\\hp\\anaconda3\\lib\\site-packages (from notebook>=4.4.1->widgetsnbextension~=3.5.0->ipywidgets>=7.6.5->pycaret) (21.3.0)\n",
      "Requirement already satisfied: nbconvert in c:\\users\\hp\\anaconda3\\lib\\site-packages (from notebook>=4.4.1->widgetsnbextension~=3.5.0->ipywidgets>=7.6.5->pycaret) (6.4.4)\n",
      "Requirement already satisfied: terminado>=0.8.3 in c:\\users\\hp\\anaconda3\\lib\\site-packages (from notebook>=4.4.1->widgetsnbextension~=3.5.0->ipywidgets>=7.6.5->pycaret) (0.13.1)\n",
      "Requirement already satisfied: prometheus-client in c:\\users\\hp\\anaconda3\\lib\\site-packages (from notebook>=4.4.1->widgetsnbextension~=3.5.0->ipywidgets>=7.6.5->pycaret) (0.13.1)\n",
      "Requirement already satisfied: Send2Trash>=1.8.0 in c:\\users\\hp\\anaconda3\\lib\\site-packages (from notebook>=4.4.1->widgetsnbextension~=3.5.0->ipywidgets>=7.6.5->pycaret) (1.8.0)\n",
      "Requirement already satisfied: pywinpty>=1.1.0 in c:\\users\\hp\\anaconda3\\lib\\site-packages (from terminado>=0.8.3->notebook>=4.4.1->widgetsnbextension~=3.5.0->ipywidgets>=7.6.5->pycaret) (2.0.2)\n",
      "Requirement already satisfied: argon2-cffi-bindings in c:\\users\\hp\\anaconda3\\lib\\site-packages (from argon2-cffi->notebook>=4.4.1->widgetsnbextension~=3.5.0->ipywidgets>=7.6.5->pycaret) (21.2.0)\n",
      "Requirement already satisfied: cffi>=1.0.1 in c:\\users\\hp\\anaconda3\\lib\\site-packages (from argon2-cffi-bindings->argon2-cffi->notebook>=4.4.1->widgetsnbextension~=3.5.0->ipywidgets>=7.6.5->pycaret) (1.15.0)\n",
      "Requirement already satisfied: pycparser in c:\\users\\hp\\anaconda3\\lib\\site-packages (from cffi>=1.0.1->argon2-cffi-bindings->argon2-cffi->notebook>=4.4.1->widgetsnbextension~=3.5.0->ipywidgets>=7.6.5->pycaret) (2.21)\n",
      "Requirement already satisfied: brotli in c:\\users\\hp\\anaconda3\\lib\\site-packages (from flask-compress->dash<3.0.0,>=2.2.0->plotly-resampler>=0.7.2.2->pycaret) (1.0.9)\n",
      "Requirement already satisfied: mistune<2,>=0.8.1 in c:\\users\\hp\\anaconda3\\lib\\site-packages (from nbconvert->notebook>=4.4.1->widgetsnbextension~=3.5.0->ipywidgets>=7.6.5->pycaret) (0.8.4)\n",
      "Requirement already satisfied: beautifulsoup4 in c:\\users\\hp\\anaconda3\\lib\\site-packages (from nbconvert->notebook>=4.4.1->widgetsnbextension~=3.5.0->ipywidgets>=7.6.5->pycaret) (4.11.1)\n",
      "Requirement already satisfied: pandocfilters>=1.4.1 in c:\\users\\hp\\anaconda3\\lib\\site-packages (from nbconvert->notebook>=4.4.1->widgetsnbextension~=3.5.0->ipywidgets>=7.6.5->pycaret) (1.5.0)\n",
      "Requirement already satisfied: defusedxml in c:\\users\\hp\\anaconda3\\lib\\site-packages (from nbconvert->notebook>=4.4.1->widgetsnbextension~=3.5.0->ipywidgets>=7.6.5->pycaret) (0.7.1)\n",
      "Requirement already satisfied: jupyterlab-pygments in c:\\users\\hp\\anaconda3\\lib\\site-packages (from nbconvert->notebook>=4.4.1->widgetsnbextension~=3.5.0->ipywidgets>=7.6.5->pycaret) (0.1.2)\n",
      "Requirement already satisfied: entrypoints>=0.2.2 in c:\\users\\hp\\anaconda3\\lib\\site-packages (from nbconvert->notebook>=4.4.1->widgetsnbextension~=3.5.0->ipywidgets>=7.6.5->pycaret) (0.4)\n",
      "Requirement already satisfied: bleach in c:\\users\\hp\\anaconda3\\lib\\site-packages (from nbconvert->notebook>=4.4.1->widgetsnbextension~=3.5.0->ipywidgets>=7.6.5->pycaret) (4.1.0)\n",
      "Requirement already satisfied: testpath in c:\\users\\hp\\anaconda3\\lib\\site-packages (from nbconvert->notebook>=4.4.1->widgetsnbextension~=3.5.0->ipywidgets>=7.6.5->pycaret) (0.5.0)\n",
      "Requirement already satisfied: nbclient<0.6.0,>=0.5.0 in c:\\users\\hp\\anaconda3\\lib\\site-packages (from nbconvert->notebook>=4.4.1->widgetsnbextension~=3.5.0->ipywidgets>=7.6.5->pycaret) (0.5.13)\n",
      "Requirement already satisfied: soupsieve>1.2 in c:\\users\\hp\\anaconda3\\lib\\site-packages (from beautifulsoup4->nbconvert->notebook>=4.4.1->widgetsnbextension~=3.5.0->ipywidgets>=7.6.5->pycaret) (2.3.1)\n",
      "Requirement already satisfied: webencodings in c:\\users\\hp\\anaconda3\\lib\\site-packages (from bleach->nbconvert->notebook>=4.4.1->widgetsnbextension~=3.5.0->ipywidgets>=7.6.5->pycaret) (0.5.1)\n",
      "Requirement already satisfied: asttokens in c:\\users\\hp\\anaconda3\\lib\\site-packages (from stack-data->ipython>=5.5.0->pycaret) (2.0.5)\n",
      "Requirement already satisfied: executing in c:\\users\\hp\\anaconda3\\lib\\site-packages (from stack-data->ipython>=5.5.0->pycaret) (0.8.3)\n",
      "Requirement already satisfied: pure-eval in c:\\users\\hp\\anaconda3\\lib\\site-packages (from stack-data->ipython>=5.5.0->pycaret) (0.2.2)\n",
      "Note: you may need to restart the kernel to use updated packages.\n"
     ]
    }
   ],
   "source": [
    "pip install --pre pycaret"
   ]
  },
  {
   "cell_type": "code",
   "execution_count": 3,
   "metadata": {
    "colab": {
     "base_uri": "https://localhost:8080/"
    },
    "id": "Xh8VNsd9z8Da",
    "outputId": "9f93262f-a796-4ce2-9f96-ee70a012a5a6"
   },
   "outputs": [
    {
     "name": "stdout",
     "output_type": "stream",
     "text": [
      "Requirement already satisfied: pycaret in c:\\users\\hp\\anaconda3\\lib\\site-packages (3.0.0rc4)\n",
      "Requirement already satisfied: tqdm>=4.62.0 in c:\\users\\hp\\anaconda3\\lib\\site-packages (from pycaret) (4.64.0)\n",
      "Requirement already satisfied: yellowbrick>=1.4 in c:\\users\\hp\\anaconda3\\lib\\site-packages (from pycaret) (1.5)\n",
      "Requirement already satisfied: importlib-metadata>=4.12.0 in c:\\users\\hp\\anaconda3\\lib\\site-packages (from pycaret) (5.0.0)\n",
      "Requirement already satisfied: psutil>=5.9.0 in c:\\users\\hp\\anaconda3\\lib\\site-packages (from pycaret) (5.9.3)\n",
      "Requirement already satisfied: scikit-learn>=1.0 in c:\\users\\hp\\anaconda3\\lib\\site-packages (from pycaret) (1.1.2)\n",
      "Requirement already satisfied: schemdraw>=0.14 in c:\\users\\hp\\anaconda3\\lib\\site-packages (from pycaret) (0.15)\n",
      "Requirement already satisfied: tbats>=1.1.0 in c:\\users\\hp\\anaconda3\\lib\\site-packages (from pycaret) (1.1.1)\n",
      "Requirement already satisfied: pandas<1.5.0,>=1.3.0 in c:\\users\\hp\\anaconda3\\lib\\site-packages (from pycaret) (1.4.2)\n",
      "Requirement already satisfied: statsmodels>=0.12.1 in c:\\users\\hp\\anaconda3\\lib\\site-packages (from pycaret) (0.13.2)\n",
      "Requirement already satisfied: joblib>=1.1.0 in c:\\users\\hp\\anaconda3\\lib\\site-packages (from pycaret) (1.1.0)\n",
      "Requirement already satisfied: category-encoders>=2.4.0 in c:\\users\\hp\\anaconda3\\lib\\site-packages (from pycaret) (2.5.1.post0)\n",
      "Requirement already satisfied: matplotlib>=3.3.0 in c:\\users\\hp\\anaconda3\\lib\\site-packages (from pycaret) (3.5.1)\n",
      "Requirement already satisfied: sktime~=0.13.2 in c:\\users\\hp\\anaconda3\\lib\\site-packages (from pycaret) (0.13.4)\n",
      "Requirement already satisfied: lightgbm>=3.0.0 in c:\\users\\hp\\anaconda3\\lib\\site-packages (from pycaret) (3.3.3)\n",
      "Requirement already satisfied: scipy<1.9.0 in c:\\users\\hp\\anaconda3\\lib\\site-packages (from pycaret) (1.7.3)\n",
      "Requirement already satisfied: jinja2>=1.2 in c:\\users\\hp\\anaconda3\\lib\\site-packages (from pycaret) (2.11.3)\n",
      "Requirement already satisfied: kaleido>=0.2.1 in c:\\users\\hp\\anaconda3\\lib\\site-packages (from pycaret) (0.2.1)\n",
      "Requirement already satisfied: numba~=0.55.0 in c:\\users\\hp\\anaconda3\\lib\\site-packages (from pycaret) (0.55.1)\n",
      "Requirement already satisfied: plotly>=5.0.0 in c:\\users\\hp\\anaconda3\\lib\\site-packages (from pycaret) (5.6.0)\n",
      "Requirement already satisfied: plotly-resampler>=0.7.2.2 in c:\\users\\hp\\anaconda3\\lib\\site-packages (from pycaret) (0.8.2rc3)\n",
      "Requirement already satisfied: pmdarima!=1.8.1,<2.0.0,>=1.8.0 in c:\\users\\hp\\anaconda3\\lib\\site-packages (from pycaret) (1.8.5)\n",
      "Requirement already satisfied: pyod>=0.9.8 in c:\\users\\hp\\anaconda3\\lib\\site-packages (from pycaret) (1.0.5)\n",
      "Requirement already satisfied: ipython>=5.5.0 in c:\\users\\hp\\anaconda3\\lib\\site-packages (from pycaret) (8.2.0)\n",
      "Requirement already satisfied: markupsafe>=2.0.1 in c:\\users\\hp\\anaconda3\\lib\\site-packages (from pycaret) (2.0.1)\n",
      "Requirement already satisfied: requests>=2.27.1 in c:\\users\\hp\\anaconda3\\lib\\site-packages (from pycaret) (2.27.1)\n",
      "Requirement already satisfied: scikit-plot>=0.3.7 in c:\\users\\hp\\anaconda3\\lib\\site-packages (from pycaret) (0.3.7)\n",
      "Requirement already satisfied: imbalanced-learn>=0.8.1 in c:\\users\\hp\\anaconda3\\lib\\site-packages (from pycaret) (0.9.1)\n",
      "Requirement already satisfied: numpy<1.23,>=1.21 in c:\\users\\hp\\anaconda3\\lib\\site-packages (from pycaret) (1.21.5)\n",
      "Requirement already satisfied: ipywidgets>=7.6.5 in c:\\users\\hp\\anaconda3\\lib\\site-packages (from pycaret) (7.6.5)\n",
      "Requirement already satisfied: patsy>=0.5.1 in c:\\users\\hp\\anaconda3\\lib\\site-packages (from category-encoders>=2.4.0->pycaret) (0.5.2)\n",
      "Requirement already satisfied: threadpoolctl>=2.0.0 in c:\\users\\hp\\anaconda3\\lib\\site-packages (from imbalanced-learn>=0.8.1->pycaret) (2.2.0)\n",
      "Requirement already satisfied: zipp>=0.5 in c:\\users\\hp\\anaconda3\\lib\\site-packages (from importlib-metadata>=4.12.0->pycaret) (3.7.0)\n",
      "Requirement already satisfied: jedi>=0.16 in c:\\users\\hp\\anaconda3\\lib\\site-packages (from ipython>=5.5.0->pycaret) (0.18.1)\n",
      "Requirement already satisfied: pygments>=2.4.0 in c:\\users\\hp\\anaconda3\\lib\\site-packages (from ipython>=5.5.0->pycaret) (2.11.2)\n",
      "Requirement already satisfied: setuptools>=18.5 in c:\\users\\hp\\anaconda3\\lib\\site-packages (from ipython>=5.5.0->pycaret) (60.10.0)\n",
      "Requirement already satisfied: colorama in c:\\users\\hp\\anaconda3\\lib\\site-packages (from ipython>=5.5.0->pycaret) (0.4.4)\n",
      "Requirement already satisfied: stack-data in c:\\users\\hp\\anaconda3\\lib\\site-packages (from ipython>=5.5.0->pycaret) (0.2.0)\n",
      "Requirement already satisfied: prompt-toolkit!=3.0.0,!=3.0.1,<3.1.0,>=2.0.0 in c:\\users\\hp\\anaconda3\\lib\\site-packages (from ipython>=5.5.0->pycaret) (3.0.20)\n",
      "Requirement already satisfied: traitlets>=5 in c:\\users\\hp\\anaconda3\\lib\\site-packages (from ipython>=5.5.0->pycaret) (5.1.1)\n",
      "Requirement already satisfied: matplotlib-inline in c:\\users\\hp\\anaconda3\\lib\\site-packages (from ipython>=5.5.0->pycaret) (0.1.2)\n",
      "Requirement already satisfied: decorator in c:\\users\\hp\\anaconda3\\lib\\site-packages (from ipython>=5.5.0->pycaret) (5.1.1)\n",
      "Requirement already satisfied: backcall in c:\\users\\hp\\anaconda3\\lib\\site-packages (from ipython>=5.5.0->pycaret) (0.2.0)\n",
      "Requirement already satisfied: pickleshare in c:\\users\\hp\\anaconda3\\lib\\site-packages (from ipython>=5.5.0->pycaret) (0.7.5)\n",
      "Requirement already satisfied: ipython-genutils~=0.2.0 in c:\\users\\hp\\anaconda3\\lib\\site-packages (from ipywidgets>=7.6.5->pycaret) (0.2.0)\n",
      "Requirement already satisfied: nbformat>=4.2.0 in c:\\users\\hp\\anaconda3\\lib\\site-packages (from ipywidgets>=7.6.5->pycaret) (5.3.0)\n",
      "Requirement already satisfied: widgetsnbextension~=3.5.0 in c:\\users\\hp\\anaconda3\\lib\\site-packages (from ipywidgets>=7.6.5->pycaret) (3.5.2)\n",
      "Requirement already satisfied: ipykernel>=4.5.1 in c:\\users\\hp\\anaconda3\\lib\\site-packages (from ipywidgets>=7.6.5->pycaret) (6.9.1)\n",
      "Requirement already satisfied: jupyterlab-widgets>=1.0.0 in c:\\users\\hp\\anaconda3\\lib\\site-packages (from ipywidgets>=7.6.5->pycaret) (1.0.0)\n",
      "Requirement already satisfied: debugpy<2.0,>=1.0.0 in c:\\users\\hp\\anaconda3\\lib\\site-packages (from ipykernel>=4.5.1->ipywidgets>=7.6.5->pycaret) (1.5.1)\n",
      "Requirement already satisfied: jupyter-client<8.0 in c:\\users\\hp\\anaconda3\\lib\\site-packages (from ipykernel>=4.5.1->ipywidgets>=7.6.5->pycaret) (6.1.12)\n",
      "Requirement already satisfied: tornado<7.0,>=4.2 in c:\\users\\hp\\anaconda3\\lib\\site-packages (from ipykernel>=4.5.1->ipywidgets>=7.6.5->pycaret) (6.1)\n",
      "Requirement already satisfied: nest-asyncio in c:\\users\\hp\\anaconda3\\lib\\site-packages (from ipykernel>=4.5.1->ipywidgets>=7.6.5->pycaret) (1.5.5)\n",
      "Requirement already satisfied: parso<0.9.0,>=0.8.0 in c:\\users\\hp\\anaconda3\\lib\\site-packages (from jedi>=0.16->ipython>=5.5.0->pycaret) (0.8.3)\n",
      "Requirement already satisfied: jupyter-core>=4.6.0 in c:\\users\\hp\\anaconda3\\lib\\site-packages (from jupyter-client<8.0->ipykernel>=4.5.1->ipywidgets>=7.6.5->pycaret) (4.9.2)\n",
      "Requirement already satisfied: pyzmq>=13 in c:\\users\\hp\\anaconda3\\lib\\site-packages (from jupyter-client<8.0->ipykernel>=4.5.1->ipywidgets>=7.6.5->pycaret) (22.3.0)\n",
      "Requirement already satisfied: python-dateutil>=2.1 in c:\\users\\hp\\anaconda3\\lib\\site-packages (from jupyter-client<8.0->ipykernel>=4.5.1->ipywidgets>=7.6.5->pycaret) (2.8.2)\n",
      "Requirement already satisfied: pywin32>=1.0 in c:\\users\\hp\\anaconda3\\lib\\site-packages (from jupyter-core>=4.6.0->jupyter-client<8.0->ipykernel>=4.5.1->ipywidgets>=7.6.5->pycaret) (302)\n",
      "Requirement already satisfied: wheel in c:\\users\\hp\\anaconda3\\lib\\site-packages (from lightgbm>=3.0.0->pycaret) (0.37.1)\n",
      "Requirement already satisfied: pyparsing>=2.2.1 in c:\\users\\hp\\anaconda3\\lib\\site-packages (from matplotlib>=3.3.0->pycaret) (3.0.4)\n",
      "Requirement already satisfied: kiwisolver>=1.0.1 in c:\\users\\hp\\anaconda3\\lib\\site-packages (from matplotlib>=3.3.0->pycaret) (1.3.2)\n",
      "Requirement already satisfied: packaging>=20.0 in c:\\users\\hp\\anaconda3\\lib\\site-packages (from matplotlib>=3.3.0->pycaret) (21.3)\n",
      "Requirement already satisfied: cycler>=0.10 in c:\\users\\hp\\anaconda3\\lib\\site-packages (from matplotlib>=3.3.0->pycaret) (0.11.0)\n",
      "Requirement already satisfied: fonttools>=4.22.0 in c:\\users\\hp\\anaconda3\\lib\\site-packages (from matplotlib>=3.3.0->pycaret) (4.25.0)\n",
      "Requirement already satisfied: pillow>=6.2.0 in c:\\users\\hp\\anaconda3\\lib\\site-packages (from matplotlib>=3.3.0->pycaret) (9.0.1)\n",
      "Requirement already satisfied: fastjsonschema in c:\\users\\hp\\anaconda3\\lib\\site-packages (from nbformat>=4.2.0->ipywidgets>=7.6.5->pycaret) (2.15.1)\n",
      "Requirement already satisfied: jsonschema>=2.6 in c:\\users\\hp\\anaconda3\\lib\\site-packages (from nbformat>=4.2.0->ipywidgets>=7.6.5->pycaret) (4.4.0)\n",
      "Requirement already satisfied: attrs>=17.4.0 in c:\\users\\hp\\anaconda3\\lib\\site-packages (from jsonschema>=2.6->nbformat>=4.2.0->ipywidgets>=7.6.5->pycaret) (21.4.0)\n",
      "Requirement already satisfied: pyrsistent!=0.17.0,!=0.17.1,!=0.17.2,>=0.14.0 in c:\\users\\hp\\anaconda3\\lib\\site-packages (from jsonschema>=2.6->nbformat>=4.2.0->ipywidgets>=7.6.5->pycaret) (0.18.0)\n",
      "Requirement already satisfied: llvmlite<0.39,>=0.38.0rc1 in c:\\users\\hp\\anaconda3\\lib\\site-packages (from numba~=0.55.0->pycaret) (0.38.0)\n",
      "Requirement already satisfied: pytz>=2020.1 in c:\\users\\hp\\anaconda3\\lib\\site-packages (from pandas<1.5.0,>=1.3.0->pycaret) (2021.3)\n",
      "Requirement already satisfied: six in c:\\users\\hp\\anaconda3\\lib\\site-packages (from patsy>=0.5.1->category-encoders>=2.4.0->pycaret) (1.16.0)\n",
      "Requirement already satisfied: tenacity>=6.2.0 in c:\\users\\hp\\anaconda3\\lib\\site-packages (from plotly>=5.0.0->pycaret) (8.0.1)\n",
      "Requirement already satisfied: jupyter-dash>=0.4.2 in c:\\users\\hp\\anaconda3\\lib\\site-packages (from plotly-resampler>=0.7.2.2->pycaret) (0.4.2)\n",
      "Requirement already satisfied: Flask-Cors<4.0.0,>=3.0.10 in c:\\users\\hp\\anaconda3\\lib\\site-packages (from plotly-resampler>=0.7.2.2->pycaret) (3.0.10)\n",
      "Requirement already satisfied: orjson<4.0.0,>=3.7.7 in c:\\users\\hp\\anaconda3\\lib\\site-packages (from plotly-resampler>=0.7.2.2->pycaret) (3.8.0)\n",
      "Requirement already satisfied: dash<3.0.0,>=2.2.0 in c:\\users\\hp\\anaconda3\\lib\\site-packages (from plotly-resampler>=0.7.2.2->pycaret) (2.6.2)\n",
      "Requirement already satisfied: trace-updater>=0.0.8 in c:\\users\\hp\\anaconda3\\lib\\site-packages (from plotly-resampler>=0.7.2.2->pycaret) (0.0.8)\n",
      "Requirement already satisfied: dash-html-components==2.0.0 in c:\\users\\hp\\anaconda3\\lib\\site-packages (from dash<3.0.0,>=2.2.0->plotly-resampler>=0.7.2.2->pycaret) (2.0.0)\n",
      "Requirement already satisfied: dash-table==5.0.0 in c:\\users\\hp\\anaconda3\\lib\\site-packages (from dash<3.0.0,>=2.2.0->plotly-resampler>=0.7.2.2->pycaret) (5.0.0)\n",
      "Requirement already satisfied: dash-core-components==2.0.0 in c:\\users\\hp\\anaconda3\\lib\\site-packages (from dash<3.0.0,>=2.2.0->plotly-resampler>=0.7.2.2->pycaret) (2.0.0)\n",
      "Requirement already satisfied: flask-compress in c:\\users\\hp\\anaconda3\\lib\\site-packages (from dash<3.0.0,>=2.2.0->plotly-resampler>=0.7.2.2->pycaret) (1.13)\n",
      "Requirement already satisfied: Flask>=1.0.4 in c:\\users\\hp\\anaconda3\\lib\\site-packages (from dash<3.0.0,>=2.2.0->plotly-resampler>=0.7.2.2->pycaret) (1.1.2)\n",
      "Requirement already satisfied: click>=5.1 in c:\\users\\hp\\anaconda3\\lib\\site-packages (from Flask>=1.0.4->dash<3.0.0,>=2.2.0->plotly-resampler>=0.7.2.2->pycaret) (8.0.4)\n",
      "Requirement already satisfied: itsdangerous>=0.24 in c:\\users\\hp\\anaconda3\\lib\\site-packages (from Flask>=1.0.4->dash<3.0.0,>=2.2.0->plotly-resampler>=0.7.2.2->pycaret) (2.0.1)\n",
      "Requirement already satisfied: Werkzeug>=0.15 in c:\\users\\hp\\anaconda3\\lib\\site-packages (from Flask>=1.0.4->dash<3.0.0,>=2.2.0->plotly-resampler>=0.7.2.2->pycaret) (2.0.3)\n",
      "Requirement already satisfied: retrying in c:\\users\\hp\\anaconda3\\lib\\site-packages (from jupyter-dash>=0.4.2->plotly-resampler>=0.7.2.2->pycaret) (1.3.3)\n",
      "Requirement already satisfied: ansi2html in c:\\users\\hp\\anaconda3\\lib\\site-packages (from jupyter-dash>=0.4.2->plotly-resampler>=0.7.2.2->pycaret) (1.8.0)\n",
      "Requirement already satisfied: urllib3 in c:\\users\\hp\\anaconda3\\lib\\site-packages (from pmdarima!=1.8.1,<2.0.0,>=1.8.0->pycaret) (1.26.9)\n",
      "Requirement already satisfied: Cython!=0.29.18,>=0.29 in c:\\users\\hp\\anaconda3\\lib\\site-packages (from pmdarima!=1.8.1,<2.0.0,>=1.8.0->pycaret) (0.29.28)\n",
      "Requirement already satisfied: wcwidth in c:\\users\\hp\\anaconda3\\lib\\site-packages (from prompt-toolkit!=3.0.0,!=3.0.1,<3.1.0,>=2.0.0->ipython>=5.5.0->pycaret) (0.2.5)\n",
      "Requirement already satisfied: charset-normalizer~=2.0.0 in c:\\users\\hp\\anaconda3\\lib\\site-packages (from requests>=2.27.1->pycaret) (2.0.4)\n",
      "Requirement already satisfied: certifi>=2017.4.17 in c:\\users\\hp\\anaconda3\\lib\\site-packages (from requests>=2.27.1->pycaret) (2021.10.8)\n",
      "Requirement already satisfied: idna<4,>=2.5 in c:\\users\\hp\\anaconda3\\lib\\site-packages (from requests>=2.27.1->pycaret) (3.3)\n",
      "Requirement already satisfied: deprecated>=1.2.13 in c:\\users\\hp\\anaconda3\\lib\\site-packages (from sktime~=0.13.2->pycaret) (1.2.13)\n",
      "Requirement already satisfied: wrapt<2,>=1.10 in c:\\users\\hp\\anaconda3\\lib\\site-packages (from deprecated>=1.2.13->sktime~=0.13.2->pycaret) (1.12.1)\n",
      "Requirement already satisfied: notebook>=4.4.1 in c:\\users\\hp\\anaconda3\\lib\\site-packages (from widgetsnbextension~=3.5.0->ipywidgets>=7.6.5->pycaret) (6.4.8)\n",
      "Requirement already satisfied: argon2-cffi in c:\\users\\hp\\anaconda3\\lib\\site-packages (from notebook>=4.4.1->widgetsnbextension~=3.5.0->ipywidgets>=7.6.5->pycaret) (21.3.0)\n",
      "Requirement already satisfied: Send2Trash>=1.8.0 in c:\\users\\hp\\anaconda3\\lib\\site-packages (from notebook>=4.4.1->widgetsnbextension~=3.5.0->ipywidgets>=7.6.5->pycaret) (1.8.0)\n",
      "Requirement already satisfied: nbconvert in c:\\users\\hp\\anaconda3\\lib\\site-packages (from notebook>=4.4.1->widgetsnbextension~=3.5.0->ipywidgets>=7.6.5->pycaret) (6.4.4)\n",
      "Requirement already satisfied: terminado>=0.8.3 in c:\\users\\hp\\anaconda3\\lib\\site-packages (from notebook>=4.4.1->widgetsnbextension~=3.5.0->ipywidgets>=7.6.5->pycaret) (0.13.1)\n",
      "Requirement already satisfied: prometheus-client in c:\\users\\hp\\anaconda3\\lib\\site-packages (from notebook>=4.4.1->widgetsnbextension~=3.5.0->ipywidgets>=7.6.5->pycaret) (0.13.1)\n",
      "Requirement already satisfied: pywinpty>=1.1.0 in c:\\users\\hp\\anaconda3\\lib\\site-packages (from terminado>=0.8.3->notebook>=4.4.1->widgetsnbextension~=3.5.0->ipywidgets>=7.6.5->pycaret) (2.0.2)\n",
      "Requirement already satisfied: argon2-cffi-bindings in c:\\users\\hp\\anaconda3\\lib\\site-packages (from argon2-cffi->notebook>=4.4.1->widgetsnbextension~=3.5.0->ipywidgets>=7.6.5->pycaret) (21.2.0)\n",
      "Requirement already satisfied: cffi>=1.0.1 in c:\\users\\hp\\anaconda3\\lib\\site-packages (from argon2-cffi-bindings->argon2-cffi->notebook>=4.4.1->widgetsnbextension~=3.5.0->ipywidgets>=7.6.5->pycaret) (1.15.0)\n",
      "Requirement already satisfied: pycparser in c:\\users\\hp\\anaconda3\\lib\\site-packages (from cffi>=1.0.1->argon2-cffi-bindings->argon2-cffi->notebook>=4.4.1->widgetsnbextension~=3.5.0->ipywidgets>=7.6.5->pycaret) (2.21)\n",
      "Requirement already satisfied: brotli in c:\\users\\hp\\anaconda3\\lib\\site-packages (from flask-compress->dash<3.0.0,>=2.2.0->plotly-resampler>=0.7.2.2->pycaret) (1.0.9)\n",
      "Requirement already satisfied: testpath in c:\\users\\hp\\anaconda3\\lib\\site-packages (from nbconvert->notebook>=4.4.1->widgetsnbextension~=3.5.0->ipywidgets>=7.6.5->pycaret) (0.5.0)\n",
      "Requirement already satisfied: nbclient<0.6.0,>=0.5.0 in c:\\users\\hp\\anaconda3\\lib\\site-packages (from nbconvert->notebook>=4.4.1->widgetsnbextension~=3.5.0->ipywidgets>=7.6.5->pycaret) (0.5.13)\n",
      "Requirement already satisfied: pandocfilters>=1.4.1 in c:\\users\\hp\\anaconda3\\lib\\site-packages (from nbconvert->notebook>=4.4.1->widgetsnbextension~=3.5.0->ipywidgets>=7.6.5->pycaret) (1.5.0)\n",
      "Requirement already satisfied: bleach in c:\\users\\hp\\anaconda3\\lib\\site-packages (from nbconvert->notebook>=4.4.1->widgetsnbextension~=3.5.0->ipywidgets>=7.6.5->pycaret) (4.1.0)\n",
      "Requirement already satisfied: beautifulsoup4 in c:\\users\\hp\\anaconda3\\lib\\site-packages (from nbconvert->notebook>=4.4.1->widgetsnbextension~=3.5.0->ipywidgets>=7.6.5->pycaret) (4.11.1)\n",
      "Requirement already satisfied: mistune<2,>=0.8.1 in c:\\users\\hp\\anaconda3\\lib\\site-packages (from nbconvert->notebook>=4.4.1->widgetsnbextension~=3.5.0->ipywidgets>=7.6.5->pycaret) (0.8.4)\n",
      "Requirement already satisfied: jupyterlab-pygments in c:\\users\\hp\\anaconda3\\lib\\site-packages (from nbconvert->notebook>=4.4.1->widgetsnbextension~=3.5.0->ipywidgets>=7.6.5->pycaret) (0.1.2)\n",
      "Requirement already satisfied: entrypoints>=0.2.2 in c:\\users\\hp\\anaconda3\\lib\\site-packages (from nbconvert->notebook>=4.4.1->widgetsnbextension~=3.5.0->ipywidgets>=7.6.5->pycaret) (0.4)\n",
      "Requirement already satisfied: defusedxml in c:\\users\\hp\\anaconda3\\lib\\site-packages (from nbconvert->notebook>=4.4.1->widgetsnbextension~=3.5.0->ipywidgets>=7.6.5->pycaret) (0.7.1)\n",
      "Requirement already satisfied: soupsieve>1.2 in c:\\users\\hp\\anaconda3\\lib\\site-packages (from beautifulsoup4->nbconvert->notebook>=4.4.1->widgetsnbextension~=3.5.0->ipywidgets>=7.6.5->pycaret) (2.3.1)\n",
      "Requirement already satisfied: webencodings in c:\\users\\hp\\anaconda3\\lib\\site-packages (from bleach->nbconvert->notebook>=4.4.1->widgetsnbextension~=3.5.0->ipywidgets>=7.6.5->pycaret) (0.5.1)\n",
      "Requirement already satisfied: asttokens in c:\\users\\hp\\anaconda3\\lib\\site-packages (from stack-data->ipython>=5.5.0->pycaret) (2.0.5)\n",
      "Requirement already satisfied: executing in c:\\users\\hp\\anaconda3\\lib\\site-packages (from stack-data->ipython>=5.5.0->pycaret) (0.8.3)\n",
      "Requirement already satisfied: pure-eval in c:\\users\\hp\\anaconda3\\lib\\site-packages (from stack-data->ipython>=5.5.0->pycaret) (0.2.2)\n",
      "Note: you may need to restart the kernel to use updated packages.\n"
     ]
    }
   ],
   "source": [
    "pip install pycaret"
   ]
  },
  {
   "cell_type": "code",
   "execution_count": 14,
   "metadata": {
    "id": "-AL-A6JqxlYA"
   },
   "outputs": [],
   "source": [
    "#load the seol bike data set from drive\n",
    "df = pd.read_csv('SeoulBikeData.csv',encoding ='latin')"
   ]
  },
  {
   "cell_type": "code",
   "execution_count": 15,
   "metadata": {
    "colab": {
     "base_uri": "https://localhost:8080/",
     "height": 354
    },
    "id": "a2SuR9OPyCLE",
    "outputId": "68b18ce3-fc32-4725-bf8b-1a3ff2cc4470"
   },
   "outputs": [
    {
     "data": {
      "text/html": [
       "<div>\n",
       "<style scoped>\n",
       "    .dataframe tbody tr th:only-of-type {\n",
       "        vertical-align: middle;\n",
       "    }\n",
       "\n",
       "    .dataframe tbody tr th {\n",
       "        vertical-align: top;\n",
       "    }\n",
       "\n",
       "    .dataframe thead th {\n",
       "        text-align: right;\n",
       "    }\n",
       "</style>\n",
       "<table border=\"1\" class=\"dataframe\">\n",
       "  <thead>\n",
       "    <tr style=\"text-align: right;\">\n",
       "      <th></th>\n",
       "      <th>Date</th>\n",
       "      <th>Rented Bike Count</th>\n",
       "      <th>Hour</th>\n",
       "      <th>Temperature(°C)</th>\n",
       "      <th>Humidity(%)</th>\n",
       "      <th>Wind speed (m/s)</th>\n",
       "      <th>Visibility (10m)</th>\n",
       "      <th>Dew point temperature(°C)</th>\n",
       "      <th>Solar Radiation (MJ/m2)</th>\n",
       "      <th>Rainfall(mm)</th>\n",
       "      <th>Snowfall (cm)</th>\n",
       "      <th>Seasons</th>\n",
       "      <th>Holiday</th>\n",
       "      <th>Functioning Day</th>\n",
       "    </tr>\n",
       "  </thead>\n",
       "  <tbody>\n",
       "    <tr>\n",
       "      <th>0</th>\n",
       "      <td>01/12/2017</td>\n",
       "      <td>254</td>\n",
       "      <td>0</td>\n",
       "      <td>-5.2</td>\n",
       "      <td>37</td>\n",
       "      <td>2.2</td>\n",
       "      <td>2000</td>\n",
       "      <td>-17.6</td>\n",
       "      <td>0.0</td>\n",
       "      <td>0.0</td>\n",
       "      <td>0.0</td>\n",
       "      <td>Winter</td>\n",
       "      <td>No Holiday</td>\n",
       "      <td>Yes</td>\n",
       "    </tr>\n",
       "    <tr>\n",
       "      <th>1</th>\n",
       "      <td>01/12/2017</td>\n",
       "      <td>204</td>\n",
       "      <td>1</td>\n",
       "      <td>-5.5</td>\n",
       "      <td>38</td>\n",
       "      <td>0.8</td>\n",
       "      <td>2000</td>\n",
       "      <td>-17.6</td>\n",
       "      <td>0.0</td>\n",
       "      <td>0.0</td>\n",
       "      <td>0.0</td>\n",
       "      <td>Winter</td>\n",
       "      <td>No Holiday</td>\n",
       "      <td>Yes</td>\n",
       "    </tr>\n",
       "    <tr>\n",
       "      <th>2</th>\n",
       "      <td>01/12/2017</td>\n",
       "      <td>173</td>\n",
       "      <td>2</td>\n",
       "      <td>-6.0</td>\n",
       "      <td>39</td>\n",
       "      <td>1.0</td>\n",
       "      <td>2000</td>\n",
       "      <td>-17.7</td>\n",
       "      <td>0.0</td>\n",
       "      <td>0.0</td>\n",
       "      <td>0.0</td>\n",
       "      <td>Winter</td>\n",
       "      <td>No Holiday</td>\n",
       "      <td>Yes</td>\n",
       "    </tr>\n",
       "    <tr>\n",
       "      <th>3</th>\n",
       "      <td>01/12/2017</td>\n",
       "      <td>107</td>\n",
       "      <td>3</td>\n",
       "      <td>-6.2</td>\n",
       "      <td>40</td>\n",
       "      <td>0.9</td>\n",
       "      <td>2000</td>\n",
       "      <td>-17.6</td>\n",
       "      <td>0.0</td>\n",
       "      <td>0.0</td>\n",
       "      <td>0.0</td>\n",
       "      <td>Winter</td>\n",
       "      <td>No Holiday</td>\n",
       "      <td>Yes</td>\n",
       "    </tr>\n",
       "    <tr>\n",
       "      <th>4</th>\n",
       "      <td>01/12/2017</td>\n",
       "      <td>78</td>\n",
       "      <td>4</td>\n",
       "      <td>-6.0</td>\n",
       "      <td>36</td>\n",
       "      <td>2.3</td>\n",
       "      <td>2000</td>\n",
       "      <td>-18.6</td>\n",
       "      <td>0.0</td>\n",
       "      <td>0.0</td>\n",
       "      <td>0.0</td>\n",
       "      <td>Winter</td>\n",
       "      <td>No Holiday</td>\n",
       "      <td>Yes</td>\n",
       "    </tr>\n",
       "  </tbody>\n",
       "</table>\n",
       "</div>"
      ],
      "text/plain": [
       "         Date  Rented Bike Count  Hour  Temperature(°C)  Humidity(%)  \\\n",
       "0  01/12/2017                254     0             -5.2           37   \n",
       "1  01/12/2017                204     1             -5.5           38   \n",
       "2  01/12/2017                173     2             -6.0           39   \n",
       "3  01/12/2017                107     3             -6.2           40   \n",
       "4  01/12/2017                 78     4             -6.0           36   \n",
       "\n",
       "   Wind speed (m/s)  Visibility (10m)  Dew point temperature(°C)  \\\n",
       "0               2.2              2000                      -17.6   \n",
       "1               0.8              2000                      -17.6   \n",
       "2               1.0              2000                      -17.7   \n",
       "3               0.9              2000                      -17.6   \n",
       "4               2.3              2000                      -18.6   \n",
       "\n",
       "   Solar Radiation (MJ/m2)  Rainfall(mm)  Snowfall (cm) Seasons     Holiday  \\\n",
       "0                      0.0           0.0            0.0  Winter  No Holiday   \n",
       "1                      0.0           0.0            0.0  Winter  No Holiday   \n",
       "2                      0.0           0.0            0.0  Winter  No Holiday   \n",
       "3                      0.0           0.0            0.0  Winter  No Holiday   \n",
       "4                      0.0           0.0            0.0  Winter  No Holiday   \n",
       "\n",
       "  Functioning Day  \n",
       "0             Yes  \n",
       "1             Yes  \n",
       "2             Yes  \n",
       "3             Yes  \n",
       "4             Yes  "
      ]
     },
     "execution_count": 15,
     "metadata": {},
     "output_type": "execute_result"
    }
   ],
   "source": [
    "df.head()"
   ]
  },
  {
   "cell_type": "code",
   "execution_count": 16,
   "metadata": {
    "id": "N67g4gOHxsQJ"
   },
   "outputs": [],
   "source": [
    "#Rename the complex columns name\n",
    "df=df.rename(columns={'Rented Bike Count':'Rented_Bike_Count',\n",
    "                                'Temperature(°C)':'Temperature',\n",
    "                                'Humidity(%)':'Humidity',\n",
    "                                'Wind speed (m/s)':'Wind_speed',\n",
    "                                'Visibility (10m)':'Visibility',\n",
    "                                'Dew point temperature(°C)':'Dew_point_temperature',\n",
    "                                'Solar Radiation (MJ/m2)':'Solar_Radiation',\n",
    "                                'Rainfall(mm)':'Rainfall',\n",
    "                                'Snowfall (cm)':'Snowfall',\n",
    "                                'Functioning Day':'Functioning_Day'})"
   ]
  },
  {
   "cell_type": "code",
   "execution_count": 17,
   "metadata": {},
   "outputs": [],
   "source": [
    "df=df.drop(columns=['Date'],axis=1)"
   ]
  },
  {
   "cell_type": "code",
   "execution_count": null,
   "metadata": {
    "id": "TXEh40l3yIv0"
   },
   "outputs": [],
   "source": []
  },
  {
   "cell_type": "code",
   "execution_count": 18,
   "metadata": {
    "id": "-Ah2zLADyTfc"
   },
   "outputs": [
    {
     "data": {
      "text/plain": [
       "Spring    2208\n",
       "Summer    2208\n",
       "Autumn    2184\n",
       "Winter    2160\n",
       "Name: Seasons, dtype: int64"
      ]
     },
     "execution_count": 18,
     "metadata": {},
     "output_type": "execute_result"
    }
   ],
   "source": [
    "df['Seasons'].value_counts()"
   ]
  },
  {
   "cell_type": "code",
   "execution_count": 19,
   "metadata": {
    "id": "ORAkJ56Uyiu2"
   },
   "outputs": [],
   "source": [
    "df[\"Seasons\"] = df[\"Seasons\"].replace({'Spring':1,'Summer':2,'Autumn':3,'Winter':4})"
   ]
  },
  {
   "cell_type": "code",
   "execution_count": 20,
   "metadata": {},
   "outputs": [
    {
     "data": {
      "text/plain": [
       "No Holiday    8328\n",
       "Holiday        432\n",
       "Name: Holiday, dtype: int64"
      ]
     },
     "execution_count": 20,
     "metadata": {},
     "output_type": "execute_result"
    }
   ],
   "source": [
    "df['Holiday'].value_counts()"
   ]
  },
  {
   "cell_type": "code",
   "execution_count": 21,
   "metadata": {},
   "outputs": [],
   "source": [
    "df[\"Holiday\"] = df[\"Holiday\"].replace({'No Holiday':0,'Holiday':1})"
   ]
  },
  {
   "cell_type": "code",
   "execution_count": 22,
   "metadata": {},
   "outputs": [
    {
     "data": {
      "text/plain": [
       "Yes    8465\n",
       "No      295\n",
       "Name: Functioning_Day, dtype: int64"
      ]
     },
     "execution_count": 22,
     "metadata": {},
     "output_type": "execute_result"
    }
   ],
   "source": [
    "df['Functioning_Day'].value_counts()"
   ]
  },
  {
   "cell_type": "code",
   "execution_count": 23,
   "metadata": {},
   "outputs": [],
   "source": [
    "df[\"Functioning_Day\"] = df[\"Functioning_Day\"].replace({'No':0,'Yes':1})"
   ]
  },
  {
   "cell_type": "code",
   "execution_count": 24,
   "metadata": {
    "colab": {
     "base_uri": "https://localhost:8080/",
     "height": 206
    },
    "id": "HsTZj2BKymJX",
    "outputId": "76e34556-178d-46f7-d25a-b71c2d212ffe"
   },
   "outputs": [
    {
     "data": {
      "text/html": [
       "<div>\n",
       "<style scoped>\n",
       "    .dataframe tbody tr th:only-of-type {\n",
       "        vertical-align: middle;\n",
       "    }\n",
       "\n",
       "    .dataframe tbody tr th {\n",
       "        vertical-align: top;\n",
       "    }\n",
       "\n",
       "    .dataframe thead th {\n",
       "        text-align: right;\n",
       "    }\n",
       "</style>\n",
       "<table border=\"1\" class=\"dataframe\">\n",
       "  <thead>\n",
       "    <tr style=\"text-align: right;\">\n",
       "      <th></th>\n",
       "      <th>Rented_Bike_Count</th>\n",
       "      <th>Hour</th>\n",
       "      <th>Temperature</th>\n",
       "      <th>Humidity</th>\n",
       "      <th>Wind_speed</th>\n",
       "      <th>Visibility</th>\n",
       "      <th>Dew_point_temperature</th>\n",
       "      <th>Solar_Radiation</th>\n",
       "      <th>Rainfall</th>\n",
       "      <th>Snowfall</th>\n",
       "      <th>Seasons</th>\n",
       "      <th>Holiday</th>\n",
       "      <th>Functioning_Day</th>\n",
       "    </tr>\n",
       "  </thead>\n",
       "  <tbody>\n",
       "    <tr>\n",
       "      <th>0</th>\n",
       "      <td>254</td>\n",
       "      <td>0</td>\n",
       "      <td>-5.2</td>\n",
       "      <td>37</td>\n",
       "      <td>2.2</td>\n",
       "      <td>2000</td>\n",
       "      <td>-17.6</td>\n",
       "      <td>0.0</td>\n",
       "      <td>0.0</td>\n",
       "      <td>0.0</td>\n",
       "      <td>4</td>\n",
       "      <td>0</td>\n",
       "      <td>1</td>\n",
       "    </tr>\n",
       "    <tr>\n",
       "      <th>1</th>\n",
       "      <td>204</td>\n",
       "      <td>1</td>\n",
       "      <td>-5.5</td>\n",
       "      <td>38</td>\n",
       "      <td>0.8</td>\n",
       "      <td>2000</td>\n",
       "      <td>-17.6</td>\n",
       "      <td>0.0</td>\n",
       "      <td>0.0</td>\n",
       "      <td>0.0</td>\n",
       "      <td>4</td>\n",
       "      <td>0</td>\n",
       "      <td>1</td>\n",
       "    </tr>\n",
       "    <tr>\n",
       "      <th>2</th>\n",
       "      <td>173</td>\n",
       "      <td>2</td>\n",
       "      <td>-6.0</td>\n",
       "      <td>39</td>\n",
       "      <td>1.0</td>\n",
       "      <td>2000</td>\n",
       "      <td>-17.7</td>\n",
       "      <td>0.0</td>\n",
       "      <td>0.0</td>\n",
       "      <td>0.0</td>\n",
       "      <td>4</td>\n",
       "      <td>0</td>\n",
       "      <td>1</td>\n",
       "    </tr>\n",
       "    <tr>\n",
       "      <th>3</th>\n",
       "      <td>107</td>\n",
       "      <td>3</td>\n",
       "      <td>-6.2</td>\n",
       "      <td>40</td>\n",
       "      <td>0.9</td>\n",
       "      <td>2000</td>\n",
       "      <td>-17.6</td>\n",
       "      <td>0.0</td>\n",
       "      <td>0.0</td>\n",
       "      <td>0.0</td>\n",
       "      <td>4</td>\n",
       "      <td>0</td>\n",
       "      <td>1</td>\n",
       "    </tr>\n",
       "    <tr>\n",
       "      <th>4</th>\n",
       "      <td>78</td>\n",
       "      <td>4</td>\n",
       "      <td>-6.0</td>\n",
       "      <td>36</td>\n",
       "      <td>2.3</td>\n",
       "      <td>2000</td>\n",
       "      <td>-18.6</td>\n",
       "      <td>0.0</td>\n",
       "      <td>0.0</td>\n",
       "      <td>0.0</td>\n",
       "      <td>4</td>\n",
       "      <td>0</td>\n",
       "      <td>1</td>\n",
       "    </tr>\n",
       "  </tbody>\n",
       "</table>\n",
       "</div>"
      ],
      "text/plain": [
       "   Rented_Bike_Count  Hour  Temperature  Humidity  Wind_speed  Visibility  \\\n",
       "0                254     0         -5.2        37         2.2        2000   \n",
       "1                204     1         -5.5        38         0.8        2000   \n",
       "2                173     2         -6.0        39         1.0        2000   \n",
       "3                107     3         -6.2        40         0.9        2000   \n",
       "4                 78     4         -6.0        36         2.3        2000   \n",
       "\n",
       "   Dew_point_temperature  Solar_Radiation  Rainfall  Snowfall  Seasons  \\\n",
       "0                  -17.6              0.0       0.0       0.0        4   \n",
       "1                  -17.6              0.0       0.0       0.0        4   \n",
       "2                  -17.7              0.0       0.0       0.0        4   \n",
       "3                  -17.6              0.0       0.0       0.0        4   \n",
       "4                  -18.6              0.0       0.0       0.0        4   \n",
       "\n",
       "   Holiday  Functioning_Day  \n",
       "0        0                1  \n",
       "1        0                1  \n",
       "2        0                1  \n",
       "3        0                1  \n",
       "4        0                1  "
      ]
     },
     "execution_count": 24,
     "metadata": {},
     "output_type": "execute_result"
    }
   ],
   "source": [
    "df.head()"
   ]
  },
  {
   "cell_type": "code",
   "execution_count": null,
   "metadata": {
    "id": "qpJb6gj-ynsq"
   },
   "outputs": [],
   "source": []
  },
  {
   "cell_type": "code",
   "execution_count": 25,
   "metadata": {
    "id": "MD79epoOyzZp"
   },
   "outputs": [],
   "source": [
    "from pycaret.regression import*"
   ]
  },
  {
   "cell_type": "code",
   "execution_count": 26,
   "metadata": {
    "colab": {
     "base_uri": "https://localhost:8080/",
     "height": 1000,
     "referenced_widgets": [
      "9da07bbc06974d048c0a230fb00bbaf5",
      "cfde6f2a54904aaf991809592d7c9974",
      "d5575cbea28f4947befaea71c89563ca",
      "11b61abfa04e4382a19075538af76b45",
      "2cf96f4fafc24ed1b3bcf0339211f4eb",
      "1b1a60a323c943aa92265e9887ae58c2"
     ]
    },
    "id": "XA9MyyUR0cfv",
    "outputId": "04fd7be6-9271-4428-e477-f54114029a9b"
   },
   "outputs": [
    {
     "data": {
      "text/html": [
       "<style type=\"text/css\">\n",
       "#T_e95af_row7_col1 {\n",
       "  background-color: lightgreen;\n",
       "}\n",
       "</style>\n",
       "<table id=\"T_e95af\">\n",
       "  <thead>\n",
       "    <tr>\n",
       "      <th class=\"blank level0\" >&nbsp;</th>\n",
       "      <th id=\"T_e95af_level0_col0\" class=\"col_heading level0 col0\" >Description</th>\n",
       "      <th id=\"T_e95af_level0_col1\" class=\"col_heading level0 col1\" >Value</th>\n",
       "    </tr>\n",
       "  </thead>\n",
       "  <tbody>\n",
       "    <tr>\n",
       "      <th id=\"T_e95af_level0_row0\" class=\"row_heading level0 row0\" >0</th>\n",
       "      <td id=\"T_e95af_row0_col0\" class=\"data row0 col0\" >Session id</td>\n",
       "      <td id=\"T_e95af_row0_col1\" class=\"data row0 col1\" >4872</td>\n",
       "    </tr>\n",
       "    <tr>\n",
       "      <th id=\"T_e95af_level0_row1\" class=\"row_heading level0 row1\" >1</th>\n",
       "      <td id=\"T_e95af_row1_col0\" class=\"data row1 col0\" >Target</td>\n",
       "      <td id=\"T_e95af_row1_col1\" class=\"data row1 col1\" >Rented_Bike_Count</td>\n",
       "    </tr>\n",
       "    <tr>\n",
       "      <th id=\"T_e95af_level0_row2\" class=\"row_heading level0 row2\" >2</th>\n",
       "      <td id=\"T_e95af_row2_col0\" class=\"data row2 col0\" >Target type</td>\n",
       "      <td id=\"T_e95af_row2_col1\" class=\"data row2 col1\" >Regression</td>\n",
       "    </tr>\n",
       "    <tr>\n",
       "      <th id=\"T_e95af_level0_row3\" class=\"row_heading level0 row3\" >3</th>\n",
       "      <td id=\"T_e95af_row3_col0\" class=\"data row3 col0\" >Data shape</td>\n",
       "      <td id=\"T_e95af_row3_col1\" class=\"data row3 col1\" >(8760, 13)</td>\n",
       "    </tr>\n",
       "    <tr>\n",
       "      <th id=\"T_e95af_level0_row4\" class=\"row_heading level0 row4\" >4</th>\n",
       "      <td id=\"T_e95af_row4_col0\" class=\"data row4 col0\" >Train data shape</td>\n",
       "      <td id=\"T_e95af_row4_col1\" class=\"data row4 col1\" >(6131, 13)</td>\n",
       "    </tr>\n",
       "    <tr>\n",
       "      <th id=\"T_e95af_level0_row5\" class=\"row_heading level0 row5\" >5</th>\n",
       "      <td id=\"T_e95af_row5_col0\" class=\"data row5 col0\" >Test data shape</td>\n",
       "      <td id=\"T_e95af_row5_col1\" class=\"data row5 col1\" >(2629, 13)</td>\n",
       "    </tr>\n",
       "    <tr>\n",
       "      <th id=\"T_e95af_level0_row6\" class=\"row_heading level0 row6\" >6</th>\n",
       "      <td id=\"T_e95af_row6_col0\" class=\"data row6 col0\" >Numeric features</td>\n",
       "      <td id=\"T_e95af_row6_col1\" class=\"data row6 col1\" >12</td>\n",
       "    </tr>\n",
       "    <tr>\n",
       "      <th id=\"T_e95af_level0_row7\" class=\"row_heading level0 row7\" >7</th>\n",
       "      <td id=\"T_e95af_row7_col0\" class=\"data row7 col0\" >Preprocess</td>\n",
       "      <td id=\"T_e95af_row7_col1\" class=\"data row7 col1\" >True</td>\n",
       "    </tr>\n",
       "    <tr>\n",
       "      <th id=\"T_e95af_level0_row8\" class=\"row_heading level0 row8\" >8</th>\n",
       "      <td id=\"T_e95af_row8_col0\" class=\"data row8 col0\" >Imputation type</td>\n",
       "      <td id=\"T_e95af_row8_col1\" class=\"data row8 col1\" >simple</td>\n",
       "    </tr>\n",
       "    <tr>\n",
       "      <th id=\"T_e95af_level0_row9\" class=\"row_heading level0 row9\" >9</th>\n",
       "      <td id=\"T_e95af_row9_col0\" class=\"data row9 col0\" >Numeric imputation</td>\n",
       "      <td id=\"T_e95af_row9_col1\" class=\"data row9 col1\" >mean</td>\n",
       "    </tr>\n",
       "    <tr>\n",
       "      <th id=\"T_e95af_level0_row10\" class=\"row_heading level0 row10\" >10</th>\n",
       "      <td id=\"T_e95af_row10_col0\" class=\"data row10 col0\" >Categorical imputation</td>\n",
       "      <td id=\"T_e95af_row10_col1\" class=\"data row10 col1\" >constant</td>\n",
       "    </tr>\n",
       "    <tr>\n",
       "      <th id=\"T_e95af_level0_row11\" class=\"row_heading level0 row11\" >11</th>\n",
       "      <td id=\"T_e95af_row11_col0\" class=\"data row11 col0\" >Low variance threshold</td>\n",
       "      <td id=\"T_e95af_row11_col1\" class=\"data row11 col1\" >0</td>\n",
       "    </tr>\n",
       "    <tr>\n",
       "      <th id=\"T_e95af_level0_row12\" class=\"row_heading level0 row12\" >12</th>\n",
       "      <td id=\"T_e95af_row12_col0\" class=\"data row12 col0\" >Fold Generator</td>\n",
       "      <td id=\"T_e95af_row12_col1\" class=\"data row12 col1\" >KFold</td>\n",
       "    </tr>\n",
       "    <tr>\n",
       "      <th id=\"T_e95af_level0_row13\" class=\"row_heading level0 row13\" >13</th>\n",
       "      <td id=\"T_e95af_row13_col0\" class=\"data row13 col0\" >Fold Number</td>\n",
       "      <td id=\"T_e95af_row13_col1\" class=\"data row13 col1\" >10</td>\n",
       "    </tr>\n",
       "    <tr>\n",
       "      <th id=\"T_e95af_level0_row14\" class=\"row_heading level0 row14\" >14</th>\n",
       "      <td id=\"T_e95af_row14_col0\" class=\"data row14 col0\" >CPU Jobs</td>\n",
       "      <td id=\"T_e95af_row14_col1\" class=\"data row14 col1\" >-1</td>\n",
       "    </tr>\n",
       "    <tr>\n",
       "      <th id=\"T_e95af_level0_row15\" class=\"row_heading level0 row15\" >15</th>\n",
       "      <td id=\"T_e95af_row15_col0\" class=\"data row15 col0\" >Use GPU</td>\n",
       "      <td id=\"T_e95af_row15_col1\" class=\"data row15 col1\" >False</td>\n",
       "    </tr>\n",
       "    <tr>\n",
       "      <th id=\"T_e95af_level0_row16\" class=\"row_heading level0 row16\" >16</th>\n",
       "      <td id=\"T_e95af_row16_col0\" class=\"data row16 col0\" >Log Experiment</td>\n",
       "      <td id=\"T_e95af_row16_col1\" class=\"data row16 col1\" >False</td>\n",
       "    </tr>\n",
       "    <tr>\n",
       "      <th id=\"T_e95af_level0_row17\" class=\"row_heading level0 row17\" >17</th>\n",
       "      <td id=\"T_e95af_row17_col0\" class=\"data row17 col0\" >Experiment Name</td>\n",
       "      <td id=\"T_e95af_row17_col1\" class=\"data row17 col1\" >reg-default-name</td>\n",
       "    </tr>\n",
       "    <tr>\n",
       "      <th id=\"T_e95af_level0_row18\" class=\"row_heading level0 row18\" >18</th>\n",
       "      <td id=\"T_e95af_row18_col0\" class=\"data row18 col0\" >USI</td>\n",
       "      <td id=\"T_e95af_row18_col1\" class=\"data row18 col1\" >9d87</td>\n",
       "    </tr>\n",
       "  </tbody>\n",
       "</table>\n"
      ],
      "text/plain": [
       "<pandas.io.formats.style.Styler at 0x1eb141d6d30>"
      ]
     },
     "metadata": {},
     "output_type": "display_data"
    }
   ],
   "source": [
    "s = setup(df, target = 'Rented_Bike_Count')"
   ]
  },
  {
   "cell_type": "code",
   "execution_count": 27,
   "metadata": {
    "colab": {
     "base_uri": "https://localhost:8080/",
     "height": 796,
     "referenced_widgets": [
      "ae564b25ce4f48faaed9db2c11cc7b30",
      "b94f806ecd604fdca71bdbe029c561c7",
      "20a60e25911e4055b986ea0ae03c4cc5"
     ]
    },
    "id": "2x3AB7Vo1Irw",
    "outputId": "0bd18215-bd97-4ad4-945e-5baed13e561c"
   },
   "outputs": [
    {
     "data": {
      "text/html": [],
      "text/plain": [
       "<IPython.core.display.HTML object>"
      ]
     },
     "metadata": {},
     "output_type": "display_data"
    },
    {
     "data": {
      "text/html": [
       "<style type=\"text/css\">\n",
       "#T_1009a th {\n",
       "  text-align: left;\n",
       "}\n",
       "#T_1009a_row0_col0, #T_1009a_row0_col1, #T_1009a_row0_col5, #T_1009a_row1_col0, #T_1009a_row1_col2, #T_1009a_row1_col3, #T_1009a_row1_col4, #T_1009a_row1_col6, #T_1009a_row2_col0, #T_1009a_row2_col1, #T_1009a_row2_col2, #T_1009a_row2_col3, #T_1009a_row2_col4, #T_1009a_row2_col5, #T_1009a_row2_col6, #T_1009a_row3_col0, #T_1009a_row3_col1, #T_1009a_row3_col2, #T_1009a_row3_col3, #T_1009a_row3_col4, #T_1009a_row3_col5, #T_1009a_row3_col6, #T_1009a_row4_col0, #T_1009a_row4_col1, #T_1009a_row4_col2, #T_1009a_row4_col3, #T_1009a_row4_col4, #T_1009a_row4_col5, #T_1009a_row4_col6, #T_1009a_row5_col0, #T_1009a_row5_col1, #T_1009a_row5_col2, #T_1009a_row5_col3, #T_1009a_row5_col4, #T_1009a_row5_col5, #T_1009a_row5_col6, #T_1009a_row6_col0, #T_1009a_row6_col1, #T_1009a_row6_col2, #T_1009a_row6_col3, #T_1009a_row6_col4, #T_1009a_row6_col5, #T_1009a_row6_col6, #T_1009a_row7_col0, #T_1009a_row7_col1, #T_1009a_row7_col2, #T_1009a_row7_col3, #T_1009a_row7_col4, #T_1009a_row7_col5, #T_1009a_row7_col6, #T_1009a_row8_col0, #T_1009a_row8_col1, #T_1009a_row8_col2, #T_1009a_row8_col3, #T_1009a_row8_col4, #T_1009a_row8_col5, #T_1009a_row8_col6, #T_1009a_row9_col0, #T_1009a_row9_col1, #T_1009a_row9_col2, #T_1009a_row9_col3, #T_1009a_row9_col4, #T_1009a_row9_col5, #T_1009a_row9_col6, #T_1009a_row10_col0, #T_1009a_row10_col1, #T_1009a_row10_col2, #T_1009a_row10_col3, #T_1009a_row10_col4, #T_1009a_row10_col5, #T_1009a_row10_col6, #T_1009a_row11_col0, #T_1009a_row11_col1, #T_1009a_row11_col2, #T_1009a_row11_col3, #T_1009a_row11_col4, #T_1009a_row11_col5, #T_1009a_row11_col6, #T_1009a_row12_col0, #T_1009a_row12_col1, #T_1009a_row12_col2, #T_1009a_row12_col3, #T_1009a_row12_col4, #T_1009a_row12_col5, #T_1009a_row12_col6, #T_1009a_row13_col0, #T_1009a_row13_col1, #T_1009a_row13_col2, #T_1009a_row13_col3, #T_1009a_row13_col4, #T_1009a_row13_col5, #T_1009a_row13_col6, #T_1009a_row14_col0, #T_1009a_row14_col1, #T_1009a_row14_col2, #T_1009a_row14_col3, #T_1009a_row14_col4, #T_1009a_row14_col5, #T_1009a_row14_col6, #T_1009a_row15_col0, #T_1009a_row15_col1, #T_1009a_row15_col2, #T_1009a_row15_col3, #T_1009a_row15_col4, #T_1009a_row15_col5, #T_1009a_row15_col6, #T_1009a_row16_col0, #T_1009a_row16_col1, #T_1009a_row16_col2, #T_1009a_row16_col3, #T_1009a_row16_col4, #T_1009a_row16_col5, #T_1009a_row16_col6, #T_1009a_row17_col0, #T_1009a_row17_col1, #T_1009a_row17_col2, #T_1009a_row17_col3, #T_1009a_row17_col4, #T_1009a_row17_col5, #T_1009a_row17_col6, #T_1009a_row18_col0, #T_1009a_row18_col1, #T_1009a_row18_col2, #T_1009a_row18_col3, #T_1009a_row18_col4, #T_1009a_row18_col5, #T_1009a_row18_col6 {\n",
       "  text-align: left;\n",
       "}\n",
       "#T_1009a_row0_col2, #T_1009a_row0_col3, #T_1009a_row0_col4, #T_1009a_row0_col6, #T_1009a_row1_col1, #T_1009a_row1_col5 {\n",
       "  text-align: left;\n",
       "  background-color: yellow;\n",
       "}\n",
       "#T_1009a_row0_col7, #T_1009a_row1_col7, #T_1009a_row2_col7, #T_1009a_row3_col7, #T_1009a_row4_col7, #T_1009a_row5_col7, #T_1009a_row6_col7, #T_1009a_row7_col7, #T_1009a_row8_col7, #T_1009a_row9_col7, #T_1009a_row10_col7, #T_1009a_row11_col7, #T_1009a_row12_col7, #T_1009a_row13_col7, #T_1009a_row14_col7, #T_1009a_row15_col7, #T_1009a_row16_col7, #T_1009a_row17_col7 {\n",
       "  text-align: left;\n",
       "  background-color: lightgrey;\n",
       "}\n",
       "#T_1009a_row18_col7 {\n",
       "  text-align: left;\n",
       "  background-color: yellow;\n",
       "  background-color: lightgrey;\n",
       "}\n",
       "</style>\n",
       "<table id=\"T_1009a\">\n",
       "  <thead>\n",
       "    <tr>\n",
       "      <th class=\"blank level0\" >&nbsp;</th>\n",
       "      <th id=\"T_1009a_level0_col0\" class=\"col_heading level0 col0\" >Model</th>\n",
       "      <th id=\"T_1009a_level0_col1\" class=\"col_heading level0 col1\" >MAE</th>\n",
       "      <th id=\"T_1009a_level0_col2\" class=\"col_heading level0 col2\" >MSE</th>\n",
       "      <th id=\"T_1009a_level0_col3\" class=\"col_heading level0 col3\" >RMSE</th>\n",
       "      <th id=\"T_1009a_level0_col4\" class=\"col_heading level0 col4\" >R2</th>\n",
       "      <th id=\"T_1009a_level0_col5\" class=\"col_heading level0 col5\" >RMSLE</th>\n",
       "      <th id=\"T_1009a_level0_col6\" class=\"col_heading level0 col6\" >MAPE</th>\n",
       "      <th id=\"T_1009a_level0_col7\" class=\"col_heading level0 col7\" >TT (Sec)</th>\n",
       "    </tr>\n",
       "  </thead>\n",
       "  <tbody>\n",
       "    <tr>\n",
       "      <th id=\"T_1009a_level0_row0\" class=\"row_heading level0 row0\" >lightgbm</th>\n",
       "      <td id=\"T_1009a_row0_col0\" class=\"data row0 col0\" >Light Gradient Boosting Machine</td>\n",
       "      <td id=\"T_1009a_row0_col1\" class=\"data row0 col1\" >142.7118</td>\n",
       "      <td id=\"T_1009a_row0_col2\" class=\"data row0 col2\" >50510.1558</td>\n",
       "      <td id=\"T_1009a_row0_col3\" class=\"data row0 col3\" >224.5217</td>\n",
       "      <td id=\"T_1009a_row0_col4\" class=\"data row0 col4\" >0.8797</td>\n",
       "      <td id=\"T_1009a_row0_col5\" class=\"data row0 col5\" >0.8975</td>\n",
       "      <td id=\"T_1009a_row0_col6\" class=\"data row0 col6\" >0.4904</td>\n",
       "      <td id=\"T_1009a_row0_col7\" class=\"data row0 col7\" >0.4820</td>\n",
       "    </tr>\n",
       "    <tr>\n",
       "      <th id=\"T_1009a_level0_row1\" class=\"row_heading level0 row1\" >et</th>\n",
       "      <td id=\"T_1009a_row1_col0\" class=\"data row1 col0\" >Extra Trees Regressor</td>\n",
       "      <td id=\"T_1009a_row1_col1\" class=\"data row1 col1\" >139.7995</td>\n",
       "      <td id=\"T_1009a_row1_col2\" class=\"data row1 col2\" >52281.7838</td>\n",
       "      <td id=\"T_1009a_row1_col3\" class=\"data row1 col3\" >228.2653</td>\n",
       "      <td id=\"T_1009a_row1_col4\" class=\"data row1 col4\" >0.8755</td>\n",
       "      <td id=\"T_1009a_row1_col5\" class=\"data row1 col5\" >0.5981</td>\n",
       "      <td id=\"T_1009a_row1_col6\" class=\"data row1 col6\" >0.5202</td>\n",
       "      <td id=\"T_1009a_row1_col7\" class=\"data row1 col7\" >1.3680</td>\n",
       "    </tr>\n",
       "    <tr>\n",
       "      <th id=\"T_1009a_level0_row2\" class=\"row_heading level0 row2\" >rf</th>\n",
       "      <td id=\"T_1009a_row2_col0\" class=\"data row2 col0\" >Random Forest Regressor</td>\n",
       "      <td id=\"T_1009a_row2_col1\" class=\"data row2 col1\" >144.8780</td>\n",
       "      <td id=\"T_1009a_row2_col2\" class=\"data row2 col2\" >54768.8886</td>\n",
       "      <td id=\"T_1009a_row2_col3\" class=\"data row2 col3\" >233.7568</td>\n",
       "      <td id=\"T_1009a_row2_col4\" class=\"data row2 col4\" >0.8696</td>\n",
       "      <td id=\"T_1009a_row2_col5\" class=\"data row2 col5\" >0.6749</td>\n",
       "      <td id=\"T_1009a_row2_col6\" class=\"data row2 col6\" >0.5176</td>\n",
       "      <td id=\"T_1009a_row2_col7\" class=\"data row2 col7\" >1.9940</td>\n",
       "    </tr>\n",
       "    <tr>\n",
       "      <th id=\"T_1009a_level0_row3\" class=\"row_heading level0 row3\" >xgboost</th>\n",
       "      <td id=\"T_1009a_row3_col0\" class=\"data row3 col0\" >Extreme Gradient Boosting</td>\n",
       "      <td id=\"T_1009a_row3_col1\" class=\"data row3 col1\" >148.9121</td>\n",
       "      <td id=\"T_1009a_row3_col2\" class=\"data row3 col2\" >55550.1758</td>\n",
       "      <td id=\"T_1009a_row3_col3\" class=\"data row3 col3\" >235.4801</td>\n",
       "      <td id=\"T_1009a_row3_col4\" class=\"data row3 col4\" >0.8676</td>\n",
       "      <td id=\"T_1009a_row3_col5\" class=\"data row3 col5\" >0.9231</td>\n",
       "      <td id=\"T_1009a_row3_col6\" class=\"data row3 col6\" >0.4989</td>\n",
       "      <td id=\"T_1009a_row3_col7\" class=\"data row3 col7\" >0.6060</td>\n",
       "    </tr>\n",
       "    <tr>\n",
       "      <th id=\"T_1009a_level0_row4\" class=\"row_heading level0 row4\" >gbr</th>\n",
       "      <td id=\"T_1009a_row4_col0\" class=\"data row4 col0\" >Gradient Boosting Regressor</td>\n",
       "      <td id=\"T_1009a_row4_col1\" class=\"data row4 col1\" >172.4074</td>\n",
       "      <td id=\"T_1009a_row4_col2\" class=\"data row4 col2\" >66216.5004</td>\n",
       "      <td id=\"T_1009a_row4_col3\" class=\"data row4 col3\" >257.0785</td>\n",
       "      <td id=\"T_1009a_row4_col4\" class=\"data row4 col4\" >0.8425</td>\n",
       "      <td id=\"T_1009a_row4_col5\" class=\"data row4 col5\" >1.0141</td>\n",
       "      <td id=\"T_1009a_row4_col6\" class=\"data row4 col6\" >0.7052</td>\n",
       "      <td id=\"T_1009a_row4_col7\" class=\"data row4 col7\" >0.6490</td>\n",
       "    </tr>\n",
       "    <tr>\n",
       "      <th id=\"T_1009a_level0_row5\" class=\"row_heading level0 row5\" >dt</th>\n",
       "      <td id=\"T_1009a_row5_col0\" class=\"data row5 col0\" >Decision Tree Regressor</td>\n",
       "      <td id=\"T_1009a_row5_col1\" class=\"data row5 col1\" >183.5842</td>\n",
       "      <td id=\"T_1009a_row5_col2\" class=\"data row5 col2\" >96464.0938</td>\n",
       "      <td id=\"T_1009a_row5_col3\" class=\"data row5 col3\" >309.9203</td>\n",
       "      <td id=\"T_1009a_row5_col4\" class=\"data row5 col4\" >0.7702</td>\n",
       "      <td id=\"T_1009a_row5_col5\" class=\"data row5 col5\" >0.6054</td>\n",
       "      <td id=\"T_1009a_row5_col6\" class=\"data row5 col6\" >0.5049</td>\n",
       "      <td id=\"T_1009a_row5_col7\" class=\"data row5 col7\" >0.0700</td>\n",
       "    </tr>\n",
       "    <tr>\n",
       "      <th id=\"T_1009a_level0_row6\" class=\"row_heading level0 row6\" >ada</th>\n",
       "      <td id=\"T_1009a_row6_col0\" class=\"data row6 col0\" >AdaBoost Regressor</td>\n",
       "      <td id=\"T_1009a_row6_col1\" class=\"data row6 col1\" >373.6639</td>\n",
       "      <td id=\"T_1009a_row6_col2\" class=\"data row6 col2\" >190649.9713</td>\n",
       "      <td id=\"T_1009a_row6_col3\" class=\"data row6 col3\" >436.4695</td>\n",
       "      <td id=\"T_1009a_row6_col4\" class=\"data row6 col4\" >0.5460</td>\n",
       "      <td id=\"T_1009a_row6_col5\" class=\"data row6 col5\" >1.5255</td>\n",
       "      <td id=\"T_1009a_row6_col6\" class=\"data row6 col6\" >2.3523</td>\n",
       "      <td id=\"T_1009a_row6_col7\" class=\"data row6 col7\" >0.3710</td>\n",
       "    </tr>\n",
       "    <tr>\n",
       "      <th id=\"T_1009a_level0_row7\" class=\"row_heading level0 row7\" >knn</th>\n",
       "      <td id=\"T_1009a_row7_col0\" class=\"data row7 col0\" >K Neighbors Regressor</td>\n",
       "      <td id=\"T_1009a_row7_col1\" class=\"data row7 col1\" >305.5426</td>\n",
       "      <td id=\"T_1009a_row7_col2\" class=\"data row7 col2\" >197404.5687</td>\n",
       "      <td id=\"T_1009a_row7_col3\" class=\"data row7 col3\" >443.9489</td>\n",
       "      <td id=\"T_1009a_row7_col4\" class=\"data row7 col4\" >0.5310</td>\n",
       "      <td id=\"T_1009a_row7_col5\" class=\"data row7 col5\" >1.4340</td>\n",
       "      <td id=\"T_1009a_row7_col6\" class=\"data row7 col6\" >1.1906</td>\n",
       "      <td id=\"T_1009a_row7_col7\" class=\"data row7 col7\" >0.0630</td>\n",
       "    </tr>\n",
       "    <tr>\n",
       "      <th id=\"T_1009a_level0_row8\" class=\"row_heading level0 row8\" >lar</th>\n",
       "      <td id=\"T_1009a_row8_col0\" class=\"data row8 col0\" >Least Angle Regression</td>\n",
       "      <td id=\"T_1009a_row8_col1\" class=\"data row8 col1\" >335.9643</td>\n",
       "      <td id=\"T_1009a_row8_col2\" class=\"data row8 col2\" >202599.7197</td>\n",
       "      <td id=\"T_1009a_row8_col3\" class=\"data row8 col3\" >449.7538</td>\n",
       "      <td id=\"T_1009a_row8_col4\" class=\"data row8 col4\" >0.5193</td>\n",
       "      <td id=\"T_1009a_row8_col5\" class=\"data row8 col5\" >1.3694</td>\n",
       "      <td id=\"T_1009a_row8_col6\" class=\"data row8 col6\" >1.4983</td>\n",
       "      <td id=\"T_1009a_row8_col7\" class=\"data row8 col7\" >0.0780</td>\n",
       "    </tr>\n",
       "    <tr>\n",
       "      <th id=\"T_1009a_level0_row9\" class=\"row_heading level0 row9\" >ridge</th>\n",
       "      <td id=\"T_1009a_row9_col0\" class=\"data row9 col0\" >Ridge Regression</td>\n",
       "      <td id=\"T_1009a_row9_col1\" class=\"data row9 col1\" >335.9543</td>\n",
       "      <td id=\"T_1009a_row9_col2\" class=\"data row9 col2\" >202599.7923</td>\n",
       "      <td id=\"T_1009a_row9_col3\" class=\"data row9 col3\" >449.7543</td>\n",
       "      <td id=\"T_1009a_row9_col4\" class=\"data row9 col4\" >0.5193</td>\n",
       "      <td id=\"T_1009a_row9_col5\" class=\"data row9 col5\" >1.3693</td>\n",
       "      <td id=\"T_1009a_row9_col6\" class=\"data row9 col6\" >1.4980</td>\n",
       "      <td id=\"T_1009a_row9_col7\" class=\"data row9 col7\" >0.0750</td>\n",
       "    </tr>\n",
       "    <tr>\n",
       "      <th id=\"T_1009a_level0_row10\" class=\"row_heading level0 row10\" >lr</th>\n",
       "      <td id=\"T_1009a_row10_col0\" class=\"data row10 col0\" >Linear Regression</td>\n",
       "      <td id=\"T_1009a_row10_col1\" class=\"data row10 col1\" >335.9643</td>\n",
       "      <td id=\"T_1009a_row10_col2\" class=\"data row10 col2\" >202599.7197</td>\n",
       "      <td id=\"T_1009a_row10_col3\" class=\"data row10 col3\" >449.7538</td>\n",
       "      <td id=\"T_1009a_row10_col4\" class=\"data row10 col4\" >0.5193</td>\n",
       "      <td id=\"T_1009a_row10_col5\" class=\"data row10 col5\" >1.3694</td>\n",
       "      <td id=\"T_1009a_row10_col6\" class=\"data row10 col6\" >1.4983</td>\n",
       "      <td id=\"T_1009a_row10_col7\" class=\"data row10 col7\" >1.8210</td>\n",
       "    </tr>\n",
       "    <tr>\n",
       "      <th id=\"T_1009a_level0_row11\" class=\"row_heading level0 row11\" >br</th>\n",
       "      <td id=\"T_1009a_row11_col0\" class=\"data row11 col0\" >Bayesian Ridge</td>\n",
       "      <td id=\"T_1009a_row11_col1\" class=\"data row11 col1\" >335.9321</td>\n",
       "      <td id=\"T_1009a_row11_col2\" class=\"data row11 col2\" >202608.4109</td>\n",
       "      <td id=\"T_1009a_row11_col3\" class=\"data row11 col3\" >449.7650</td>\n",
       "      <td id=\"T_1009a_row11_col4\" class=\"data row11 col4\" >0.5192</td>\n",
       "      <td id=\"T_1009a_row11_col5\" class=\"data row11 col5\" >1.3688</td>\n",
       "      <td id=\"T_1009a_row11_col6\" class=\"data row11 col6\" >1.4973</td>\n",
       "      <td id=\"T_1009a_row11_col7\" class=\"data row11 col7\" >0.1870</td>\n",
       "    </tr>\n",
       "    <tr>\n",
       "      <th id=\"T_1009a_level0_row12\" class=\"row_heading level0 row12\" >lasso</th>\n",
       "      <td id=\"T_1009a_row12_col0\" class=\"data row12 col0\" >Lasso Regression</td>\n",
       "      <td id=\"T_1009a_row12_col1\" class=\"data row12 col1\" >335.8263</td>\n",
       "      <td id=\"T_1009a_row12_col2\" class=\"data row12 col2\" >202657.2679</td>\n",
       "      <td id=\"T_1009a_row12_col3\" class=\"data row12 col3\" >449.8215</td>\n",
       "      <td id=\"T_1009a_row12_col4\" class=\"data row12 col4\" >0.5191</td>\n",
       "      <td id=\"T_1009a_row12_col5\" class=\"data row12 col5\" >1.3664</td>\n",
       "      <td id=\"T_1009a_row12_col6\" class=\"data row12 col6\" >1.4943</td>\n",
       "      <td id=\"T_1009a_row12_col7\" class=\"data row12 col7\" >0.2330</td>\n",
       "    </tr>\n",
       "    <tr>\n",
       "      <th id=\"T_1009a_level0_row13\" class=\"row_heading level0 row13\" >en</th>\n",
       "      <td id=\"T_1009a_row13_col0\" class=\"data row13 col0\" >Elastic Net</td>\n",
       "      <td id=\"T_1009a_row13_col1\" class=\"data row13 col1\" >348.9708</td>\n",
       "      <td id=\"T_1009a_row13_col2\" class=\"data row13 col2\" >223336.6126</td>\n",
       "      <td id=\"T_1009a_row13_col3\" class=\"data row13 col3\" >472.3299</td>\n",
       "      <td id=\"T_1009a_row13_col4\" class=\"data row13 col4\" >0.4698</td>\n",
       "      <td id=\"T_1009a_row13_col5\" class=\"data row13 col5\" >1.5049</td>\n",
       "      <td id=\"T_1009a_row13_col6\" class=\"data row13 col6\" >1.4465</td>\n",
       "      <td id=\"T_1009a_row13_col7\" class=\"data row13 col7\" >0.1370</td>\n",
       "    </tr>\n",
       "    <tr>\n",
       "      <th id=\"T_1009a_level0_row14\" class=\"row_heading level0 row14\" >huber</th>\n",
       "      <td id=\"T_1009a_row14_col0\" class=\"data row14 col0\" >Huber Regressor</td>\n",
       "      <td id=\"T_1009a_row14_col1\" class=\"data row14 col1\" >345.6985</td>\n",
       "      <td id=\"T_1009a_row14_col2\" class=\"data row14 col2\" >227518.3834</td>\n",
       "      <td id=\"T_1009a_row14_col3\" class=\"data row14 col3\" >476.7419</td>\n",
       "      <td id=\"T_1009a_row14_col4\" class=\"data row14 col4\" >0.4601</td>\n",
       "      <td id=\"T_1009a_row14_col5\" class=\"data row14 col5\" >1.4890</td>\n",
       "      <td id=\"T_1009a_row14_col6\" class=\"data row14 col6\" >1.3684</td>\n",
       "      <td id=\"T_1009a_row14_col7\" class=\"data row14 col7\" >0.9970</td>\n",
       "    </tr>\n",
       "    <tr>\n",
       "      <th id=\"T_1009a_level0_row15\" class=\"row_heading level0 row15\" >llar</th>\n",
       "      <td id=\"T_1009a_row15_col0\" class=\"data row15 col0\" >Lasso Least Angle Regression</td>\n",
       "      <td id=\"T_1009a_row15_col1\" class=\"data row15 col1\" >356.0520</td>\n",
       "      <td id=\"T_1009a_row15_col2\" class=\"data row15 col2\" >232537.4777</td>\n",
       "      <td id=\"T_1009a_row15_col3\" class=\"data row15 col3\" >481.9233</td>\n",
       "      <td id=\"T_1009a_row15_col4\" class=\"data row15 col4\" >0.4485</td>\n",
       "      <td id=\"T_1009a_row15_col5\" class=\"data row15 col5\" >1.4156</td>\n",
       "      <td id=\"T_1009a_row15_col6\" class=\"data row15 col6\" >1.9863</td>\n",
       "      <td id=\"T_1009a_row15_col7\" class=\"data row15 col7\" >0.1260</td>\n",
       "    </tr>\n",
       "    <tr>\n",
       "      <th id=\"T_1009a_level0_row16\" class=\"row_heading level0 row16\" >omp</th>\n",
       "      <td id=\"T_1009a_row16_col0\" class=\"data row16 col0\" >Orthogonal Matching Pursuit</td>\n",
       "      <td id=\"T_1009a_row16_col1\" class=\"data row16 col1\" >407.8211</td>\n",
       "      <td id=\"T_1009a_row16_col2\" class=\"data row16 col2\" >301487.9682</td>\n",
       "      <td id=\"T_1009a_row16_col3\" class=\"data row16 col3\" >548.8256</td>\n",
       "      <td id=\"T_1009a_row16_col4\" class=\"data row16 col4\" >0.2846</td>\n",
       "      <td id=\"T_1009a_row16_col5\" class=\"data row16 col5\" >1.6022</td>\n",
       "      <td id=\"T_1009a_row16_col6\" class=\"data row16 col6\" >2.2912</td>\n",
       "      <td id=\"T_1009a_row16_col7\" class=\"data row16 col7\" >0.1850</td>\n",
       "    </tr>\n",
       "    <tr>\n",
       "      <th id=\"T_1009a_level0_row17\" class=\"row_heading level0 row17\" >par</th>\n",
       "      <td id=\"T_1009a_row17_col0\" class=\"data row17 col0\" >Passive Aggressive Regressor</td>\n",
       "      <td id=\"T_1009a_row17_col1\" class=\"data row17 col1\" >448.2532</td>\n",
       "      <td id=\"T_1009a_row17_col2\" class=\"data row17 col2\" >379150.2560</td>\n",
       "      <td id=\"T_1009a_row17_col3\" class=\"data row17 col3\" >611.7061</td>\n",
       "      <td id=\"T_1009a_row17_col4\" class=\"data row17 col4\" >0.1016</td>\n",
       "      <td id=\"T_1009a_row17_col5\" class=\"data row17 col5\" >1.5980</td>\n",
       "      <td id=\"T_1009a_row17_col6\" class=\"data row17 col6\" >1.5364</td>\n",
       "      <td id=\"T_1009a_row17_col7\" class=\"data row17 col7\" >0.1810</td>\n",
       "    </tr>\n",
       "    <tr>\n",
       "      <th id=\"T_1009a_level0_row18\" class=\"row_heading level0 row18\" >dummy</th>\n",
       "      <td id=\"T_1009a_row18_col0\" class=\"data row18 col0\" >Dummy Regressor</td>\n",
       "      <td id=\"T_1009a_row18_col1\" class=\"data row18 col1\" >523.7116</td>\n",
       "      <td id=\"T_1009a_row18_col2\" class=\"data row18 col2\" >422313.6354</td>\n",
       "      <td id=\"T_1009a_row18_col3\" class=\"data row18 col3\" >649.5505</td>\n",
       "      <td id=\"T_1009a_row18_col4\" class=\"data row18 col4\" >-0.0020</td>\n",
       "      <td id=\"T_1009a_row18_col5\" class=\"data row18 col5\" >1.7167</td>\n",
       "      <td id=\"T_1009a_row18_col6\" class=\"data row18 col6\" >3.2406</td>\n",
       "      <td id=\"T_1009a_row18_col7\" class=\"data row18 col7\" >0.0440</td>\n",
       "    </tr>\n",
       "  </tbody>\n",
       "</table>\n"
      ],
      "text/plain": [
       "<pandas.io.formats.style.Styler at 0x1eb143090a0>"
      ]
     },
     "metadata": {},
     "output_type": "display_data"
    },
    {
     "data": {
      "application/vnd.jupyter.widget-view+json": {
       "model_id": "",
       "version_major": 2,
       "version_minor": 0
      },
      "text/plain": [
       "Processing:   0%|          | 0/81 [00:00<?, ?it/s]"
      ]
     },
     "metadata": {},
     "output_type": "display_data"
    }
   ],
   "source": [
    "best = compare_models()"
   ]
  },
  {
   "cell_type": "code",
   "execution_count": 28,
   "metadata": {
    "colab": {
     "base_uri": "https://localhost:8080/",
     "height": 902,
     "referenced_widgets": [
      "a6dfb0bbf7244eadba5b1cba9b3b56b1",
      "cd4b731a0fdd4d46916239832bdf2695",
      "8d4ff65dc847429da390a0c64da1e499",
      "cc7e6f7c960d4397a3f05c057b04ae6e",
      "3de719028c534fb1aa8fc10993aa7a24",
      "ff3faf3951be466ca7232e8301f91a52",
      "e9b14cb3d4304867a48f73c35385e4b9",
      "e3d08d6b7f19460c916619af074f8217",
      "59a355bd49a041ee96aeb54aa5378f77",
      "70febf860c694312ab57079afbcdaa18"
     ]
    },
    "id": "wXxIsxHM1bGi",
    "outputId": "81c7add4-e1b5-405c-9fa4-238eaec47e9b"
   },
   "outputs": [
    {
     "data": {
      "application/vnd.jupyter.widget-view+json": {
       "model_id": "5fe899b9d8be47bc9f6744ff3f7346e4",
       "version_major": 2,
       "version_minor": 0
      },
      "text/plain": [
       "interactive(children=(ToggleButtons(description='Plot Type:', icons=('',), options=(('Pipeline Plot', 'pipelin…"
      ]
     },
     "metadata": {},
     "output_type": "display_data"
    }
   ],
   "source": [
    "evaluate_model(best)"
   ]
  },
  {
   "cell_type": "code",
   "execution_count": 35,
   "metadata": {
    "colab": {
     "base_uri": "https://localhost:8080/",
     "height": 283
    },
    "id": "riwZpJRx2Er_",
    "outputId": "9ca69671-d282-4b2e-aef6-05d0ed93c961"
   },
   "outputs": [
    {
     "data": {
      "text/html": [
       "<style type=\"text/css\">\n",
       "</style>\n",
       "<table id=\"T_6c33c\">\n",
       "  <thead>\n",
       "    <tr>\n",
       "      <th class=\"blank level0\" >&nbsp;</th>\n",
       "      <th id=\"T_6c33c_level0_col0\" class=\"col_heading level0 col0\" >Model</th>\n",
       "      <th id=\"T_6c33c_level0_col1\" class=\"col_heading level0 col1\" >MAE</th>\n",
       "      <th id=\"T_6c33c_level0_col2\" class=\"col_heading level0 col2\" >MSE</th>\n",
       "      <th id=\"T_6c33c_level0_col3\" class=\"col_heading level0 col3\" >RMSE</th>\n",
       "      <th id=\"T_6c33c_level0_col4\" class=\"col_heading level0 col4\" >R2</th>\n",
       "      <th id=\"T_6c33c_level0_col5\" class=\"col_heading level0 col5\" >RMSLE</th>\n",
       "      <th id=\"T_6c33c_level0_col6\" class=\"col_heading level0 col6\" >MAPE</th>\n",
       "    </tr>\n",
       "  </thead>\n",
       "  <tbody>\n",
       "    <tr>\n",
       "      <th id=\"T_6c33c_level0_row0\" class=\"row_heading level0 row0\" >0</th>\n",
       "      <td id=\"T_6c33c_row0_col0\" class=\"data row0 col0\" >Light Gradient Boosting Machine</td>\n",
       "      <td id=\"T_6c33c_row0_col1\" class=\"data row0 col1\" >117.8700</td>\n",
       "      <td id=\"T_6c33c_row0_col2\" class=\"data row0 col2\" >33887.0667</td>\n",
       "      <td id=\"T_6c33c_row0_col3\" class=\"data row0 col3\" >184.0844</td>\n",
       "      <td id=\"T_6c33c_row0_col4\" class=\"data row0 col4\" >0.9185</td>\n",
       "      <td id=\"T_6c33c_row0_col5\" class=\"data row0 col5\" >0.8275</td>\n",
       "      <td id=\"T_6c33c_row0_col6\" class=\"data row0 col6\" >0.4404</td>\n",
       "    </tr>\n",
       "  </tbody>\n",
       "</table>\n"
      ],
      "text/plain": [
       "<pandas.io.formats.style.Styler at 0x1eb1396b8e0>"
      ]
     },
     "metadata": {},
     "output_type": "display_data"
    }
   ],
   "source": [
    "prediction = predict_model(best , data = df)"
   ]
  },
  {
   "cell_type": "code",
   "execution_count": 36,
   "metadata": {
    "colab": {
     "base_uri": "https://localhost:8080/"
    },
    "id": "a9D9zOpQ2bxm",
    "outputId": "8a9cdf5b-9c35-4199-d41e-50c05719da96"
   },
   "outputs": [
    {
     "name": "stdout",
     "output_type": "stream",
     "text": [
      "Transformation Pipeline and Model Successfully Saved\n"
     ]
    },
    {
     "data": {
      "text/plain": [
       "(Pipeline(memory=Memory(location=C:\\Users\\HP\\AppData\\Local\\Temp\\joblib),\n",
       "          steps=[('numerical_imputer',\n",
       "                  TransformerWrapper(include=['Hour', 'Temperature', 'Humidity',\n",
       "                                              'Wind_speed', 'Visibility',\n",
       "                                              'Dew_point_temperature',\n",
       "                                              'Solar_Radiation', 'Rainfall',\n",
       "                                              'Snowfall', 'Seasons', 'Holiday',\n",
       "                                              'Functioning_Day'],\n",
       "                                     transformer=SimpleImputer())),\n",
       "                 ('categorical_imputer',\n",
       "                  TransformerWrapper(include=[],\n",
       "                                     transformer=SimpleImputer(fill_value='constant',\n",
       "                                                               strategy='constant'))),\n",
       "                 ('low_variance',\n",
       "                  TransformerWrapper(exclude=[],\n",
       "                                     transformer=VarianceThreshold(threshold=0))),\n",
       "                 ('trained_model', LGBMRegressor(random_state=4872))]),\n",
       " 'model.pkl')"
      ]
     },
     "execution_count": 36,
     "metadata": {},
     "output_type": "execute_result"
    }
   ],
   "source": [
    "save_model(best , 'model')"
   ]
  },
  {
   "cell_type": "code",
   "execution_count": 37,
   "metadata": {
    "colab": {
     "base_uri": "https://localhost:8080/"
    },
    "id": "X1Xi3vxC36I3",
    "outputId": "bcfdffc8-19de-4cba-d750-65b3b68a54c9"
   },
   "outputs": [
    {
     "name": "stdout",
     "output_type": "stream",
     "text": [
      "Transformation Pipeline and Model Successfully Loaded\n"
     ]
    }
   ],
   "source": [
    "model=load_model('model')"
   ]
  },
  {
   "cell_type": "code",
   "execution_count": 38,
   "metadata": {
    "colab": {
     "base_uri": "https://localhost:8080/"
    },
    "id": "dsoohP0A7PJF",
    "outputId": "47fba237-ac6f-4391-d417-61d78f7f96c5"
   },
   "outputs": [
    {
     "name": "stdout",
     "output_type": "stream",
     "text": [
      "Requirement already satisfied: fastapi in c:\\users\\hp\\anaconda3\\lib\\site-packages (0.85.1)Note: you may need to restart the kernel to use updated packages.\n",
      "Requirement already satisfied: starlette==0.20.4 in c:\\users\\hp\\anaconda3\\lib\\site-packages (from fastapi) (0.20.4)\n",
      "\n",
      "Requirement already satisfied: pydantic!=1.7,!=1.7.1,!=1.7.2,!=1.7.3,!=1.8,!=1.8.1,<2.0.0,>=1.6.2 in c:\\users\\hp\\anaconda3\\lib\\site-packages (from fastapi) (1.9.2)\n",
      "Requirement already satisfied: anyio<5,>=3.4.0 in c:\\users\\hp\\anaconda3\\lib\\site-packages (from starlette==0.20.4->fastapi) (3.5.0)\n",
      "Requirement already satisfied: typing-extensions>=3.10.0 in c:\\users\\hp\\anaconda3\\lib\\site-packages (from starlette==0.20.4->fastapi) (4.1.1)\n",
      "Requirement already satisfied: idna>=2.8 in c:\\users\\hp\\anaconda3\\lib\\site-packages (from anyio<5,>=3.4.0->starlette==0.20.4->fastapi) (3.3)\n",
      "Requirement already satisfied: sniffio>=1.1 in c:\\users\\hp\\anaconda3\\lib\\site-packages (from anyio<5,>=3.4.0->starlette==0.20.4->fastapi) (1.2.0)\n"
     ]
    }
   ],
   "source": [
    "pip install fastapi"
   ]
  },
  {
   "cell_type": "code",
   "execution_count": 33,
   "metadata": {
    "colab": {
     "base_uri": "https://localhost:8080/"
    },
    "id": "F_A-ccg77WWX",
    "outputId": "c99e9e53-3f6e-44fe-88f1-3751386b0bd2"
   },
   "outputs": [
    {
     "name": "stdout",
     "output_type": "stream",
     "text": [
      "Requirement already satisfied: uvicorn in c:\\users\\hp\\anaconda3\\lib\\site-packages (0.19.0)\n",
      "Requirement already satisfied: h11>=0.8 in c:\\users\\hp\\anaconda3\\lib\\site-packages (from uvicorn) (0.13.0)\n",
      "Requirement already satisfied: click>=7.0 in c:\\users\\hp\\anaconda3\\lib\\site-packages (from uvicorn) (8.0.4)\n",
      "Requirement already satisfied: colorama in c:\\users\\hp\\anaconda3\\lib\\site-packages (from click>=7.0->uvicorn) (0.4.4)\n",
      "Note: you may need to restart the kernel to use updated packages.\n"
     ]
    }
   ],
   "source": [
    "pip install uvicorn"
   ]
  },
  {
   "cell_type": "code",
   "execution_count": 39,
   "metadata": {
    "colab": {
     "base_uri": "https://localhost:8080/"
    },
    "id": "kJUFF9pB4IXb",
    "outputId": "dd96dbba-9d73-48b3-85fe-181de0e4fdba"
   },
   "outputs": [
    {
     "name": "stdout",
     "output_type": "stream",
     "text": [
      "API successfully created. This function only creates a POST API, it doesn't run it automatically. To run your API, please run this command --> !python app.py\n"
     ]
    }
   ],
   "source": [
    "# create api\n",
    "create_api(model, 'app')"
   ]
  },
  {
   "cell_type": "code",
   "execution_count": null,
   "metadata": {
    "id": "dW67_kRv7eOw"
   },
   "outputs": [],
   "source": [
    "!python app.py\n"
   ]
  },
  {
   "cell_type": "code",
   "execution_count": null,
   "metadata": {},
   "outputs": [],
   "source": [
    "!python app.py\n"
   ]
  }
 ],
 "metadata": {
  "colab": {
   "provenance": []
  },
  "kernelspec": {
   "display_name": "Python 3 (ipykernel)",
   "language": "python",
   "name": "python3"
  },
  "language_info": {
   "codemirror_mode": {
    "name": "ipython",
    "version": 3
   },
   "file_extension": ".py",
   "mimetype": "text/x-python",
   "name": "python",
   "nbconvert_exporter": "python",
   "pygments_lexer": "ipython3",
   "version": "3.9.12"
  },
  "widgets": {
   "application/vnd.jupyter.widget-state+json": {
    "11b61abfa04e4382a19075538af76b45": {
     "model_module": "@jupyter-widgets/controls",
     "model_module_version": "1.5.0",
     "model_name": "TextModel",
     "state": {
      "_dom_classes": [],
      "_model_module": "@jupyter-widgets/controls",
      "_model_module_version": "1.5.0",
      "_model_name": "TextModel",
      "_view_count": null,
      "_view_module": "@jupyter-widgets/controls",
      "_view_module_version": "1.5.0",
      "_view_name": "TextView",
      "continuous_update": true,
      "description": "",
      "description_tooltip": null,
      "disabled": false,
      "layout": "IPY_MODEL_2cf96f4fafc24ed1b3bcf0339211f4eb",
      "placeholder": "​",
      "style": "IPY_MODEL_1b1a60a323c943aa92265e9887ae58c2",
      "value": "Following data types have been inferred automatically, if they are correct press enter to continue or type 'quit' otherwise."
     }
    },
    "1b1a60a323c943aa92265e9887ae58c2": {
     "model_module": "@jupyter-widgets/controls",
     "model_module_version": "1.5.0",
     "model_name": "DescriptionStyleModel",
     "state": {
      "_model_module": "@jupyter-widgets/controls",
      "_model_module_version": "1.5.0",
      "_model_name": "DescriptionStyleModel",
      "_view_count": null,
      "_view_module": "@jupyter-widgets/base",
      "_view_module_version": "1.2.0",
      "_view_name": "StyleView",
      "description_width": ""
     }
    },
    "20a60e25911e4055b986ea0ae03c4cc5": {
     "model_module": "@jupyter-widgets/controls",
     "model_module_version": "1.5.0",
     "model_name": "ProgressStyleModel",
     "state": {
      "_model_module": "@jupyter-widgets/controls",
      "_model_module_version": "1.5.0",
      "_model_name": "ProgressStyleModel",
      "_view_count": null,
      "_view_module": "@jupyter-widgets/base",
      "_view_module_version": "1.2.0",
      "_view_name": "StyleView",
      "bar_color": null,
      "description_width": ""
     }
    },
    "2cf96f4fafc24ed1b3bcf0339211f4eb": {
     "model_module": "@jupyter-widgets/base",
     "model_module_version": "1.2.0",
     "model_name": "LayoutModel",
     "state": {
      "_model_module": "@jupyter-widgets/base",
      "_model_module_version": "1.2.0",
      "_model_name": "LayoutModel",
      "_view_count": null,
      "_view_module": "@jupyter-widgets/base",
      "_view_module_version": "1.2.0",
      "_view_name": "LayoutView",
      "align_content": null,
      "align_items": null,
      "align_self": null,
      "border": null,
      "bottom": null,
      "display": null,
      "flex": null,
      "flex_flow": null,
      "grid_area": null,
      "grid_auto_columns": null,
      "grid_auto_flow": null,
      "grid_auto_rows": null,
      "grid_column": null,
      "grid_gap": null,
      "grid_row": null,
      "grid_template_areas": null,
      "grid_template_columns": null,
      "grid_template_rows": null,
      "height": null,
      "justify_content": null,
      "justify_items": null,
      "left": null,
      "margin": null,
      "max_height": null,
      "max_width": null,
      "min_height": null,
      "min_width": null,
      "object_fit": null,
      "object_position": null,
      "order": null,
      "overflow": null,
      "overflow_x": null,
      "overflow_y": null,
      "padding": null,
      "right": null,
      "top": null,
      "visibility": null,
      "width": "100%"
     }
    },
    "3de719028c534fb1aa8fc10993aa7a24": {
     "model_module": "@jupyter-widgets/base",
     "model_module_version": "1.2.0",
     "model_name": "LayoutModel",
     "state": {
      "_model_module": "@jupyter-widgets/base",
      "_model_module_version": "1.2.0",
      "_model_name": "LayoutModel",
      "_view_count": null,
      "_view_module": "@jupyter-widgets/base",
      "_view_module_version": "1.2.0",
      "_view_name": "LayoutView",
      "align_content": null,
      "align_items": null,
      "align_self": null,
      "border": null,
      "bottom": null,
      "display": null,
      "flex": null,
      "flex_flow": null,
      "grid_area": null,
      "grid_auto_columns": null,
      "grid_auto_flow": null,
      "grid_auto_rows": null,
      "grid_column": null,
      "grid_gap": null,
      "grid_row": null,
      "grid_template_areas": null,
      "grid_template_columns": null,
      "grid_template_rows": null,
      "height": null,
      "justify_content": null,
      "justify_items": null,
      "left": null,
      "margin": null,
      "max_height": null,
      "max_width": null,
      "min_height": null,
      "min_width": null,
      "object_fit": null,
      "object_position": null,
      "order": null,
      "overflow": null,
      "overflow_x": null,
      "overflow_y": null,
      "padding": null,
      "right": null,
      "top": null,
      "visibility": null,
      "width": null
     }
    },
    "59a355bd49a041ee96aeb54aa5378f77": {
     "model_module": "@jupyter-widgets/base",
     "model_module_version": "1.2.0",
     "model_name": "LayoutModel",
     "state": {
      "_model_module": "@jupyter-widgets/base",
      "_model_module_version": "1.2.0",
      "_model_name": "LayoutModel",
      "_view_count": null,
      "_view_module": "@jupyter-widgets/base",
      "_view_module_version": "1.2.0",
      "_view_name": "LayoutView",
      "align_content": null,
      "align_items": null,
      "align_self": null,
      "border": null,
      "bottom": null,
      "display": null,
      "flex": null,
      "flex_flow": null,
      "grid_area": null,
      "grid_auto_columns": null,
      "grid_auto_flow": null,
      "grid_auto_rows": null,
      "grid_column": null,
      "grid_gap": null,
      "grid_row": null,
      "grid_template_areas": null,
      "grid_template_columns": null,
      "grid_template_rows": null,
      "height": null,
      "justify_content": null,
      "justify_items": null,
      "left": null,
      "margin": null,
      "max_height": null,
      "max_width": null,
      "min_height": null,
      "min_width": null,
      "object_fit": null,
      "object_position": null,
      "order": null,
      "overflow": null,
      "overflow_x": null,
      "overflow_y": null,
      "padding": null,
      "right": null,
      "top": null,
      "visibility": null,
      "width": null
     }
    },
    "70febf860c694312ab57079afbcdaa18": {
     "model_module": "@jupyter-widgets/controls",
     "model_module_version": "1.5.0",
     "model_name": "ProgressStyleModel",
     "state": {
      "_model_module": "@jupyter-widgets/controls",
      "_model_module_version": "1.5.0",
      "_model_name": "ProgressStyleModel",
      "_view_count": null,
      "_view_module": "@jupyter-widgets/base",
      "_view_module_version": "1.2.0",
      "_view_name": "StyleView",
      "bar_color": null,
      "description_width": ""
     }
    },
    "8d4ff65dc847429da390a0c64da1e499": {
     "model_module": "@jupyter-widgets/output",
     "model_module_version": "1.0.0",
     "model_name": "OutputModel",
     "state": {
      "_dom_classes": [],
      "_model_module": "@jupyter-widgets/output",
      "_model_module_version": "1.0.0",
      "_model_name": "OutputModel",
      "_view_count": null,
      "_view_module": "@jupyter-widgets/output",
      "_view_module_version": "1.0.0",
      "_view_name": "OutputView",
      "layout": "IPY_MODEL_e9b14cb3d4304867a48f73c35385e4b9",
      "msg_id": "",
      "outputs": [
       {
        "data": {
         "text/html": "\n  <div id=\"df-7bb8d84b-317e-4e26-81ab-42648bec095d\">\n    <div class=\"colab-df-container\">\n      <div>\n<style scoped>\n    .dataframe tbody tr th:only-of-type {\n        vertical-align: middle;\n    }\n\n    .dataframe tbody tr th {\n        vertical-align: top;\n    }\n\n    .dataframe thead th {\n        text-align: right;\n    }\n</style>\n<table border=\"1\" class=\"dataframe\">\n  <thead>\n    <tr style=\"text-align: right;\">\n      <th></th>\n      <th>Parameters</th>\n    </tr>\n  </thead>\n  <tbody>\n    <tr>\n      <th>boosting_type</th>\n      <td>gbdt</td>\n    </tr>\n    <tr>\n      <th>class_weight</th>\n      <td>None</td>\n    </tr>\n    <tr>\n      <th>colsample_bytree</th>\n      <td>1.0</td>\n    </tr>\n    <tr>\n      <th>importance_type</th>\n      <td>split</td>\n    </tr>\n    <tr>\n      <th>learning_rate</th>\n      <td>0.1</td>\n    </tr>\n    <tr>\n      <th>max_depth</th>\n      <td>-1</td>\n    </tr>\n    <tr>\n      <th>min_child_samples</th>\n      <td>20</td>\n    </tr>\n    <tr>\n      <th>min_child_weight</th>\n      <td>0.001</td>\n    </tr>\n    <tr>\n      <th>min_split_gain</th>\n      <td>0.0</td>\n    </tr>\n    <tr>\n      <th>n_estimators</th>\n      <td>100</td>\n    </tr>\n    <tr>\n      <th>n_jobs</th>\n      <td>-1</td>\n    </tr>\n    <tr>\n      <th>num_leaves</th>\n      <td>31</td>\n    </tr>\n    <tr>\n      <th>objective</th>\n      <td>None</td>\n    </tr>\n    <tr>\n      <th>random_state</th>\n      <td>7057</td>\n    </tr>\n    <tr>\n      <th>reg_alpha</th>\n      <td>0.0</td>\n    </tr>\n    <tr>\n      <th>reg_lambda</th>\n      <td>0.0</td>\n    </tr>\n    <tr>\n      <th>silent</th>\n      <td>warn</td>\n    </tr>\n    <tr>\n      <th>subsample</th>\n      <td>1.0</td>\n    </tr>\n    <tr>\n      <th>subsample_for_bin</th>\n      <td>200000</td>\n    </tr>\n    <tr>\n      <th>subsample_freq</th>\n      <td>0</td>\n    </tr>\n  </tbody>\n</table>\n</div>\n      <button class=\"colab-df-convert\" onclick=\"convertToInteractive('df-7bb8d84b-317e-4e26-81ab-42648bec095d')\"\n              title=\"Convert this dataframe to an interactive table.\"\n              style=\"display:none;\">\n        \n  <svg xmlns=\"http://www.w3.org/2000/svg\" height=\"24px\"viewBox=\"0 0 24 24\"\n       width=\"24px\">\n    <path d=\"M0 0h24v24H0V0z\" fill=\"none\"/>\n    <path d=\"M18.56 5.44l.94 2.06.94-2.06 2.06-.94-2.06-.94-.94-2.06-.94 2.06-2.06.94zm-11 1L8.5 8.5l.94-2.06 2.06-.94-2.06-.94L8.5 2.5l-.94 2.06-2.06.94zm10 10l.94 2.06.94-2.06 2.06-.94-2.06-.94-.94-2.06-.94 2.06-2.06.94z\"/><path d=\"M17.41 7.96l-1.37-1.37c-.4-.4-.92-.59-1.43-.59-.52 0-1.04.2-1.43.59L10.3 9.45l-7.72 7.72c-.78.78-.78 2.05 0 2.83L4 21.41c.39.39.9.59 1.41.59.51 0 1.02-.2 1.41-.59l7.78-7.78 2.81-2.81c.8-.78.8-2.07 0-2.86zM5.41 20L4 18.59l7.72-7.72 1.47 1.35L5.41 20z\"/>\n  </svg>\n      </button>\n      \n  <style>\n    .colab-df-container {\n      display:flex;\n      flex-wrap:wrap;\n      gap: 12px;\n    }\n\n    .colab-df-convert {\n      background-color: #E8F0FE;\n      border: none;\n      border-radius: 50%;\n      cursor: pointer;\n      display: none;\n      fill: #1967D2;\n      height: 32px;\n      padding: 0 0 0 0;\n      width: 32px;\n    }\n\n    .colab-df-convert:hover {\n      background-color: #E2EBFA;\n      box-shadow: 0px 1px 2px rgba(60, 64, 67, 0.3), 0px 1px 3px 1px rgba(60, 64, 67, 0.15);\n      fill: #174EA6;\n    }\n\n    [theme=dark] .colab-df-convert {\n      background-color: #3B4455;\n      fill: #D2E3FC;\n    }\n\n    [theme=dark] .colab-df-convert:hover {\n      background-color: #434B5C;\n      box-shadow: 0px 1px 3px 1px rgba(0, 0, 0, 0.15);\n      filter: drop-shadow(0px 1px 2px rgba(0, 0, 0, 0.3));\n      fill: #FFFFFF;\n    }\n  </style>\n\n      <script>\n        const buttonEl =\n          document.querySelector('#df-7bb8d84b-317e-4e26-81ab-42648bec095d button.colab-df-convert');\n        buttonEl.style.display =\n          google.colab.kernel.accessAllowed ? 'block' : 'none';\n\n        async function convertToInteractive(key) {\n          const element = document.querySelector('#df-7bb8d84b-317e-4e26-81ab-42648bec095d');\n          const dataTable =\n            await google.colab.kernel.invokeFunction('convertToInteractive',\n                                                     [key], {});\n          if (!dataTable) return;\n\n          const docLinkHtml = 'Like what you see? Visit the ' +\n            '<a target=\"_blank\" href=https://colab.research.google.com/notebooks/data_table.ipynb>data table notebook</a>'\n            + ' to learn more about interactive tables.';\n          element.innerHTML = '';\n          dataTable['output_type'] = 'display_data';\n          await google.colab.output.renderOutput(dataTable, element);\n          const docLink = document.createElement('div');\n          docLink.innerHTML = docLinkHtml;\n          element.appendChild(docLink);\n        }\n      </script>\n    </div>\n  </div>\n  ",
         "text/plain": "                  Parameters\nboosting_type           gbdt\nclass_weight            None\ncolsample_bytree         1.0\nimportance_type        split\nlearning_rate            0.1\nmax_depth                 -1\nmin_child_samples         20\nmin_child_weight       0.001\nmin_split_gain           0.0\nn_estimators             100\nn_jobs                    -1\nnum_leaves                31\nobjective               None\nrandom_state            7057\nreg_alpha                0.0\nreg_lambda               0.0\nsilent                  warn\nsubsample                1.0\nsubsample_for_bin     200000\nsubsample_freq             0"
        },
        "metadata": {},
        "output_type": "display_data"
       },
       {
        "name": "stderr",
        "output_type": "stream",
        "text": [
         "INFO:logs:Visual Rendered Successfully\n"
        ]
       },
       {
        "name": "stderr",
        "output_type": "stream",
        "text": [
         "INFO:logs:plot_model() succesfully completed......................................\n"
        ]
       }
      ]
     }
    },
    "9da07bbc06974d048c0a230fb00bbaf5": {
     "model_module": "@jupyter-widgets/controls",
     "model_module_version": "1.5.0",
     "model_name": "IntProgressModel",
     "state": {
      "_dom_classes": [],
      "_model_module": "@jupyter-widgets/controls",
      "_model_module_version": "1.5.0",
      "_model_name": "IntProgressModel",
      "_view_count": null,
      "_view_module": "@jupyter-widgets/controls",
      "_view_module_version": "1.5.0",
      "_view_name": "ProgressView",
      "bar_style": "",
      "description": "Processing: ",
      "description_tooltip": null,
      "layout": "IPY_MODEL_cfde6f2a54904aaf991809592d7c9974",
      "max": 3,
      "min": 0,
      "orientation": "horizontal",
      "style": "IPY_MODEL_d5575cbea28f4947befaea71c89563ca",
      "value": 3
     }
    },
    "a6dfb0bbf7244eadba5b1cba9b3b56b1": {
     "model_module": "@jupyter-widgets/controls",
     "model_module_version": "1.5.0",
     "model_name": "VBoxModel",
     "state": {
      "_dom_classes": [
       "widget-interact"
      ],
      "_model_module": "@jupyter-widgets/controls",
      "_model_module_version": "1.5.0",
      "_model_name": "VBoxModel",
      "_view_count": null,
      "_view_module": "@jupyter-widgets/controls",
      "_view_module_version": "1.5.0",
      "_view_name": "VBoxView",
      "box_style": "",
      "children": [
       "IPY_MODEL_cd4b731a0fdd4d46916239832bdf2695",
       "IPY_MODEL_8d4ff65dc847429da390a0c64da1e499"
      ],
      "layout": "IPY_MODEL_cc7e6f7c960d4397a3f05c057b04ae6e"
     }
    },
    "ae564b25ce4f48faaed9db2c11cc7b30": {
     "model_module": "@jupyter-widgets/controls",
     "model_module_version": "1.5.0",
     "model_name": "IntProgressModel",
     "state": {
      "_dom_classes": [],
      "_model_module": "@jupyter-widgets/controls",
      "_model_module_version": "1.5.0",
      "_model_name": "IntProgressModel",
      "_view_count": null,
      "_view_module": "@jupyter-widgets/controls",
      "_view_module_version": "1.5.0",
      "_view_name": "ProgressView",
      "bar_style": "",
      "description": "Processing: ",
      "description_tooltip": null,
      "layout": "IPY_MODEL_b94f806ecd604fdca71bdbe029c561c7",
      "max": 94,
      "min": 0,
      "orientation": "horizontal",
      "style": "IPY_MODEL_20a60e25911e4055b986ea0ae03c4cc5",
      "value": 94
     }
    },
    "b94f806ecd604fdca71bdbe029c561c7": {
     "model_module": "@jupyter-widgets/base",
     "model_module_version": "1.2.0",
     "model_name": "LayoutModel",
     "state": {
      "_model_module": "@jupyter-widgets/base",
      "_model_module_version": "1.2.0",
      "_model_name": "LayoutModel",
      "_view_count": null,
      "_view_module": "@jupyter-widgets/base",
      "_view_module_version": "1.2.0",
      "_view_name": "LayoutView",
      "align_content": null,
      "align_items": null,
      "align_self": null,
      "border": null,
      "bottom": null,
      "display": null,
      "flex": null,
      "flex_flow": null,
      "grid_area": null,
      "grid_auto_columns": null,
      "grid_auto_flow": null,
      "grid_auto_rows": null,
      "grid_column": null,
      "grid_gap": null,
      "grid_row": null,
      "grid_template_areas": null,
      "grid_template_columns": null,
      "grid_template_rows": null,
      "height": null,
      "justify_content": null,
      "justify_items": null,
      "left": null,
      "margin": null,
      "max_height": null,
      "max_width": null,
      "min_height": null,
      "min_width": null,
      "object_fit": null,
      "object_position": null,
      "order": null,
      "overflow": null,
      "overflow_x": null,
      "overflow_y": null,
      "padding": null,
      "right": null,
      "top": null,
      "visibility": null,
      "width": null
     }
    },
    "cc7e6f7c960d4397a3f05c057b04ae6e": {
     "model_module": "@jupyter-widgets/base",
     "model_module_version": "1.2.0",
     "model_name": "LayoutModel",
     "state": {
      "_model_module": "@jupyter-widgets/base",
      "_model_module_version": "1.2.0",
      "_model_name": "LayoutModel",
      "_view_count": null,
      "_view_module": "@jupyter-widgets/base",
      "_view_module_version": "1.2.0",
      "_view_name": "LayoutView",
      "align_content": null,
      "align_items": null,
      "align_self": null,
      "border": null,
      "bottom": null,
      "display": null,
      "flex": null,
      "flex_flow": null,
      "grid_area": null,
      "grid_auto_columns": null,
      "grid_auto_flow": null,
      "grid_auto_rows": null,
      "grid_column": null,
      "grid_gap": null,
      "grid_row": null,
      "grid_template_areas": null,
      "grid_template_columns": null,
      "grid_template_rows": null,
      "height": null,
      "justify_content": null,
      "justify_items": null,
      "left": null,
      "margin": null,
      "max_height": null,
      "max_width": null,
      "min_height": null,
      "min_width": null,
      "object_fit": null,
      "object_position": null,
      "order": null,
      "overflow": null,
      "overflow_x": null,
      "overflow_y": null,
      "padding": null,
      "right": null,
      "top": null,
      "visibility": null,
      "width": null
     }
    },
    "cd4b731a0fdd4d46916239832bdf2695": {
     "model_module": "@jupyter-widgets/controls",
     "model_module_version": "1.5.0",
     "model_name": "ToggleButtonsModel",
     "state": {
      "_dom_classes": [],
      "_model_module": "@jupyter-widgets/controls",
      "_model_module_version": "1.5.0",
      "_model_name": "ToggleButtonsModel",
      "_options_labels": [
       "Hyperparameters",
       "Residuals",
       "Prediction Error",
       "Cooks Distance",
       "Feature Selection",
       "Learning Curve",
       "Manifold Learning",
       "Validation Curve",
       "Feature Importance",
       "Feature Importance (All)",
       "Decision Tree",
       "Interactive Residuals"
      ],
      "_view_count": null,
      "_view_module": "@jupyter-widgets/controls",
      "_view_module_version": "1.5.0",
      "_view_name": "ToggleButtonsView",
      "button_style": "",
      "description": "Plot Type:",
      "description_tooltip": null,
      "disabled": false,
      "icons": [
       ""
      ],
      "index": 0,
      "layout": "IPY_MODEL_3de719028c534fb1aa8fc10993aa7a24",
      "style": "IPY_MODEL_ff3faf3951be466ca7232e8301f91a52",
      "tooltips": []
     }
    },
    "cfde6f2a54904aaf991809592d7c9974": {
     "model_module": "@jupyter-widgets/base",
     "model_module_version": "1.2.0",
     "model_name": "LayoutModel",
     "state": {
      "_model_module": "@jupyter-widgets/base",
      "_model_module_version": "1.2.0",
      "_model_name": "LayoutModel",
      "_view_count": null,
      "_view_module": "@jupyter-widgets/base",
      "_view_module_version": "1.2.0",
      "_view_name": "LayoutView",
      "align_content": null,
      "align_items": null,
      "align_self": null,
      "border": null,
      "bottom": null,
      "display": null,
      "flex": null,
      "flex_flow": null,
      "grid_area": null,
      "grid_auto_columns": null,
      "grid_auto_flow": null,
      "grid_auto_rows": null,
      "grid_column": null,
      "grid_gap": null,
      "grid_row": null,
      "grid_template_areas": null,
      "grid_template_columns": null,
      "grid_template_rows": null,
      "height": null,
      "justify_content": null,
      "justify_items": null,
      "left": null,
      "margin": null,
      "max_height": null,
      "max_width": null,
      "min_height": null,
      "min_width": null,
      "object_fit": null,
      "object_position": null,
      "order": null,
      "overflow": null,
      "overflow_x": null,
      "overflow_y": null,
      "padding": null,
      "right": null,
      "top": null,
      "visibility": null,
      "width": null
     }
    },
    "d5575cbea28f4947befaea71c89563ca": {
     "model_module": "@jupyter-widgets/controls",
     "model_module_version": "1.5.0",
     "model_name": "ProgressStyleModel",
     "state": {
      "_model_module": "@jupyter-widgets/controls",
      "_model_module_version": "1.5.0",
      "_model_name": "ProgressStyleModel",
      "_view_count": null,
      "_view_module": "@jupyter-widgets/base",
      "_view_module_version": "1.2.0",
      "_view_name": "StyleView",
      "bar_color": null,
      "description_width": ""
     }
    },
    "e3d08d6b7f19460c916619af074f8217": {
     "model_module": "@jupyter-widgets/controls",
     "model_module_version": "1.5.0",
     "model_name": "IntProgressModel",
     "state": {
      "_dom_classes": [],
      "_model_module": "@jupyter-widgets/controls",
      "_model_module_version": "1.5.0",
      "_model_name": "IntProgressModel",
      "_view_count": null,
      "_view_module": "@jupyter-widgets/controls",
      "_view_module_version": "1.5.0",
      "_view_name": "ProgressView",
      "bar_style": "",
      "description": "Processing: ",
      "description_tooltip": null,
      "layout": "IPY_MODEL_59a355bd49a041ee96aeb54aa5378f77",
      "max": 5,
      "min": 0,
      "orientation": "horizontal",
      "style": "IPY_MODEL_70febf860c694312ab57079afbcdaa18",
      "value": 3
     }
    },
    "e9b14cb3d4304867a48f73c35385e4b9": {
     "model_module": "@jupyter-widgets/base",
     "model_module_version": "1.2.0",
     "model_name": "LayoutModel",
     "state": {
      "_model_module": "@jupyter-widgets/base",
      "_model_module_version": "1.2.0",
      "_model_name": "LayoutModel",
      "_view_count": null,
      "_view_module": "@jupyter-widgets/base",
      "_view_module_version": "1.2.0",
      "_view_name": "LayoutView",
      "align_content": null,
      "align_items": null,
      "align_self": null,
      "border": null,
      "bottom": null,
      "display": null,
      "flex": null,
      "flex_flow": null,
      "grid_area": null,
      "grid_auto_columns": null,
      "grid_auto_flow": null,
      "grid_auto_rows": null,
      "grid_column": null,
      "grid_gap": null,
      "grid_row": null,
      "grid_template_areas": null,
      "grid_template_columns": null,
      "grid_template_rows": null,
      "height": null,
      "justify_content": null,
      "justify_items": null,
      "left": null,
      "margin": null,
      "max_height": null,
      "max_width": null,
      "min_height": null,
      "min_width": null,
      "object_fit": null,
      "object_position": null,
      "order": null,
      "overflow": null,
      "overflow_x": null,
      "overflow_y": null,
      "padding": null,
      "right": null,
      "top": null,
      "visibility": null,
      "width": null
     }
    },
    "ff3faf3951be466ca7232e8301f91a52": {
     "model_module": "@jupyter-widgets/controls",
     "model_module_version": "1.5.0",
     "model_name": "ToggleButtonsStyleModel",
     "state": {
      "_model_module": "@jupyter-widgets/controls",
      "_model_module_version": "1.5.0",
      "_model_name": "ToggleButtonsStyleModel",
      "_view_count": null,
      "_view_module": "@jupyter-widgets/base",
      "_view_module_version": "1.2.0",
      "_view_name": "StyleView",
      "button_width": "",
      "description_width": "",
      "font_weight": ""
     }
    }
   }
  }
 },
 "nbformat": 4,
 "nbformat_minor": 1
}
